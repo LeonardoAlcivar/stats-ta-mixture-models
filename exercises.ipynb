{
 "cells": [
  {
   "cell_type": "code",
   "execution_count": null,
   "metadata": {
    "autoscroll": false,
    "collapsed": false,
    "ein.hycell": false,
    "ein.tags": "worksheet-0",
    "slideshow": {
     "slide_type": "-"
    }
   },
   "outputs": [],
   "source": [
    "import pandas as pd\n",
    "import numpy as np\n",
    "from functools import partial\n",
    "from scipy.optimize import minimize, Bounds\n",
    "from scipy.stats import binom\n",
    "from sklearn.utils.fixes import logsumexp\n",
    "from sklearn.model_selection import train_test_split\n",
    "import seaborn as sns"
   ]
  },
  {
   "cell_type": "markdown",
   "metadata": {
    "ein.tags": "worksheet-0",
    "slideshow": {
     "slide_type": "-"
    }
   },
   "source": [
    "# Political Blog Classification\n",
    "\n",
    "You have already seen this data in class. Your job is simply to build a classifier that learns to classify blogs as \"conservative\" or \"liberal\" based on their word usage."
   ]
  },
  {
   "cell_type": "code",
   "execution_count": null,
   "metadata": {
    "autoscroll": false,
    "collapsed": false,
    "ein.hycell": false,
    "ein.tags": "worksheet-0",
    "slideshow": {
     "slide_type": "-"
    }
   },
   "outputs": [],
   "source": [
    "word_count = pd.read_csv('poliblog_wordcount.csv').drop('Unnamed: 0', 1)\n",
    "ratings = pd.read_csv('poliblog_ratings.csv', usecols=[1])['poliblog.ratings']\n",
    "\n",
    "X_train, X_test, y_train, y_test = train_test_split(word_count, ratings)"
   ]
  },
  {
   "cell_type": "code",
   "execution_count": 601,
   "metadata": {
    "autoscroll": false,
    "collapsed": false,
    "ein.hycell": false,
    "ein.tags": "worksheet-0",
    "slideshow": {
     "slide_type": "-"
    }
   },
   "outputs": [],
   "source": [
    "class MClassifier():\n",
    "    def __init__(self, class_priors = [.5,.5], alpha = 0.00001):\n",
    "        self.alpha = alpha \n",
    "        self.priors = np.log(class_priors)\n",
    "\n",
    "    def ml(self, df):\n",
    "        pass\n",
    "    \n",
    "    def fit(self, X, y):\n",
    "        pass\n",
    "\n",
    "    def predict_proba(self, X):\n",
    "        pass\n",
    "\n",
    "    def predict(self, X):\n",
    "        pass"
   ]
  },
  {
   "cell_type": "code",
   "execution_count": null,
   "metadata": {
    "autoscroll": false,
    "collapsed": false,
    "ein.hycell": false,
    "ein.tags": "worksheet-0",
    "slideshow": {
     "slide_type": "-"
    }
   },
   "outputs": [],
   "source": [
    "# see how your algorithm does\n",
    "\n",
    "c = MClassifier(class_priors = [.5, 5])\n",
    "c.fit(X_train, y_train)\n",
    "\n",
    "(c.predict(X_test) != y_test).sum()"
   ]
  },
  {
   "cell_type": "markdown",
   "metadata": {
    "ein.tags": "worksheet-0",
    "slideshow": {
     "slide_type": "-"
    }
   },
   "source": [
    "# EM algorithm for Binomial data\n",
    "\n",
    "You are a run-of-the-mill magician, working the streets to make ends meet. One of your staple tricks relies on having special fake coins, which are biased. \n",
    "\n",
    "Ufortunately, something has gone wrong, and you have forgotten which coins are biased in which way (more heads? more tails? You can't remember!). You know that there are 2 types of coins, but you have hundreds. \n",
    "\n",
    "You decide to flip each coin 30 times, and record the number of times it comes up heads. Based on this data, you need to determine, which coin is of which type, and estimate the bias of each type, so that you can get back to the streets and make that bread."
   ]
  },
  {
   "cell_type": "code",
   "execution_count": null,
   "metadata": {
    "autoscroll": false,
    "collapsed": false,
    "ein.hycell": false,
    "ein.tags": "worksheet-0",
    "slideshow": {
     "slide_type": "-"
    }
   },
   "outputs": [],
   "source": [
    "coin_flips = pd.read_csv('coins.csv').heads.values"
   ]
  },
  {
   "cell_type": "markdown",
   "metadata": {
    "ein.tags": "worksheet-0",
    "slideshow": {
     "slide_type": "-"
    }
   },
   "source": [
    "# Simple Binomial updating\n",
    "\n",
    "Practise visualizing the conjugate posterior updates of a Beta-Binomial model!\n",
    "\n",
    "https://en.wikipedia.org/wiki/Conjugate_prior"
   ]
  },
  {
   "cell_type": "code",
   "execution_count": null,
   "metadata": {
    "autoscroll": false,
    "collapsed": false,
    "ein.hycell": false,
    "ein.tags": "worksheet-0",
    "slideshow": {
     "slide_type": "-"
    }
   },
   "outputs": [],
   "source": [
    "coin_heads = 20\n",
    "coin_tails = 15\n",
    "\n",
    "prior_alpha = 2\n",
    "prior_beta = 2\n",
    "\n",
    "alpha = # update alpha parameter of beta distribution \n",
    "beta = # update alpha parameter of beta distribution \n",
    "sns.distplot(np.random.beta(alpha, beta, size = 10000))"
   ]
  },
  {
   "cell_type": "markdown",
   "metadata": {
    "ein.tags": "worksheet-0",
    "slideshow": {
     "slide_type": "-"
    }
   },
   "source": [
    "# EM for multinomial\n",
    "\n",
    "Using your own solution, or mine from the answers branch, revisit the multinomial (naive bayes) text classifier and attempt to perform the same problem in an unsupervised fashion: without the labels, try and recover two clusters using a mixter of multinomials model."
   ]
  },
  {
   "cell_type": "code",
   "execution_count": null,
   "metadata": {
    "autoscroll": false,
    "collapsed": false,
    "ein.hycell": false,
    "ein.tags": "worksheet-0",
    "slideshow": {
     "slide_type": "-"
    }
   },
   "outputs": [],
   "source": []
  },
  {
   "cell_type": "markdown",
   "metadata": {
    "ein.tags": "worksheet-0",
    "slideshow": {
     "slide_type": "-"
    }
   },
   "source": [
    "# Problems with Wages\n",
    "\n",
    "In this problem , you will see (simulated) data for \"wages\" in an industry.\n",
    " \n",
    "We believe that wages come from \"high skill\" and \"low skill\" workers, with \"high skill\" workers earning more. But \"skill\" is a latent variable that we cannot measure. The only data we have is the wages themselves. \n",
    "\n",
    "With this data, estimate the percentage of high skill vs. low skill workers in the industry, and say something about the difference in how they are paid."
   ]
  },
  {
   "cell_type": "code",
   "execution_count": null,
   "metadata": {
    "autoscroll": false,
    "collapsed": false,
    "ein.hycell": false,
    "ein.tags": "worksheet-0",
    "slideshow": {
     "slide_type": "-"
    }
   },
   "outputs": [],
   "source": [
    "wages = pd.read_csv('wages.csv')\n",
    "sns.distplot(wages.values, bins=40)"
   ]
  }
 ],
 "metadata": {
  "kernelspec": {
   "display_name": "Python 3",
   "name": "python3"
  },
  "name": "exercises.ipynb"
 },
 "nbformat": 4,
 "nbformat_minor": 2
}
