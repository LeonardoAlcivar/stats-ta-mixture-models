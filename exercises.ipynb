{
 "cells": [
  {
   "cell_type": "code",
   "execution_count": 1,
   "metadata": {
    "autoscroll": false,
    "ein.hycell": false,
    "ein.tags": "worksheet-0",
    "slideshow": {
     "slide_type": "-"
    }
   },
   "outputs": [],
   "source": [
    "import pandas as pd\n",
    "import numpy as np\n",
    "from functools import partial\n",
    "from scipy.optimize import minimize, Bounds\n",
    "from scipy.stats import binom, multinomial, norm, multivariate_normal\n",
    "from sklearn.utils.fixes import logsumexp\n",
    "from sklearn.model_selection import train_test_split\n",
    "import seaborn as sns\n",
    "from sklearn.mixture import GaussianMixture"
   ]
  },
  {
   "cell_type": "markdown",
   "metadata": {
    "ein.tags": "worksheet-0",
    "slideshow": {
     "slide_type": "-"
    }
   },
   "source": [
    "# Political Blog Classification\n",
    "\n",
    "You have already seen this data in class. Your job is simply to build a classifier that learns to classify blogs as \"conservative\" or \"liberal\" based on their word usage."
   ]
  },
  {
   "cell_type": "code",
   "execution_count": 87,
   "metadata": {
    "autoscroll": false,
    "ein.hycell": false,
    "ein.tags": "worksheet-0",
    "slideshow": {
     "slide_type": "-"
    }
   },
   "outputs": [],
   "source": [
    "word_count = pd.read_csv('poliblog_wordcount.csv').drop('Unnamed: 0', 1)\n",
    "ratings = pd.read_csv('poliblog_ratings.csv', usecols=[1])['poliblog.ratings']\n",
    "\n",
    "X_train, X_test, y_train, y_test = train_test_split(word_count, ratings)"
   ]
  },
  {
   "cell_type": "code",
   "execution_count": 88,
   "metadata": {},
   "outputs": [
    {
     "data": {
      "text/html": [
       "<div>\n",
       "<style scoped>\n",
       "    .dataframe tbody tr th:only-of-type {\n",
       "        vertical-align: middle;\n",
       "    }\n",
       "\n",
       "    .dataframe tbody tr th {\n",
       "        vertical-align: top;\n",
       "    }\n",
       "\n",
       "    .dataframe thead th {\n",
       "        text-align: right;\n",
       "    }\n",
       "</style>\n",
       "<table border=\"1\" class=\"dataframe\">\n",
       "  <thead>\n",
       "    <tr style=\"text-align: right;\">\n",
       "      <th></th>\n",
       "      <th>obama</th>\n",
       "      <th>clinton</th>\n",
       "      <th>mccain</th>\n",
       "      <th>said</th>\n",
       "      <th>people</th>\n",
       "      <th>just</th>\n",
       "      <th>like</th>\n",
       "      <th>campaign</th>\n",
       "      <th>democratic</th>\n",
       "      <th>new</th>\n",
       "      <th>...</th>\n",
       "      <th>blow</th>\n",
       "      <th>land</th>\n",
       "      <th>web</th>\n",
       "      <th>spread</th>\n",
       "      <th>essentially</th>\n",
       "      <th>publicly</th>\n",
       "      <th>heavy</th>\n",
       "      <th>heck</th>\n",
       "      <th>hundreds</th>\n",
       "      <th>sounds</th>\n",
       "    </tr>\n",
       "  </thead>\n",
       "  <tbody>\n",
       "    <tr>\n",
       "      <th>768</th>\n",
       "      <td>0</td>\n",
       "      <td>0</td>\n",
       "      <td>0</td>\n",
       "      <td>3</td>\n",
       "      <td>1</td>\n",
       "      <td>1</td>\n",
       "      <td>0</td>\n",
       "      <td>0</td>\n",
       "      <td>3</td>\n",
       "      <td>5</td>\n",
       "      <td>...</td>\n",
       "      <td>0</td>\n",
       "      <td>0</td>\n",
       "      <td>0</td>\n",
       "      <td>0</td>\n",
       "      <td>0</td>\n",
       "      <td>1</td>\n",
       "      <td>0</td>\n",
       "      <td>0</td>\n",
       "      <td>0</td>\n",
       "      <td>0</td>\n",
       "    </tr>\n",
       "    <tr>\n",
       "      <th>769</th>\n",
       "      <td>0</td>\n",
       "      <td>0</td>\n",
       "      <td>0</td>\n",
       "      <td>0</td>\n",
       "      <td>1</td>\n",
       "      <td>0</td>\n",
       "      <td>0</td>\n",
       "      <td>2</td>\n",
       "      <td>2</td>\n",
       "      <td>0</td>\n",
       "      <td>...</td>\n",
       "      <td>0</td>\n",
       "      <td>0</td>\n",
       "      <td>1</td>\n",
       "      <td>0</td>\n",
       "      <td>0</td>\n",
       "      <td>0</td>\n",
       "      <td>0</td>\n",
       "      <td>0</td>\n",
       "      <td>0</td>\n",
       "      <td>0</td>\n",
       "    </tr>\n",
       "    <tr>\n",
       "      <th>770</th>\n",
       "      <td>3</td>\n",
       "      <td>1</td>\n",
       "      <td>0</td>\n",
       "      <td>1</td>\n",
       "      <td>0</td>\n",
       "      <td>0</td>\n",
       "      <td>0</td>\n",
       "      <td>0</td>\n",
       "      <td>1</td>\n",
       "      <td>2</td>\n",
       "      <td>...</td>\n",
       "      <td>0</td>\n",
       "      <td>0</td>\n",
       "      <td>0</td>\n",
       "      <td>0</td>\n",
       "      <td>0</td>\n",
       "      <td>0</td>\n",
       "      <td>0</td>\n",
       "      <td>0</td>\n",
       "      <td>0</td>\n",
       "      <td>0</td>\n",
       "    </tr>\n",
       "    <tr>\n",
       "      <th>771</th>\n",
       "      <td>2</td>\n",
       "      <td>1</td>\n",
       "      <td>3</td>\n",
       "      <td>0</td>\n",
       "      <td>0</td>\n",
       "      <td>1</td>\n",
       "      <td>0</td>\n",
       "      <td>1</td>\n",
       "      <td>0</td>\n",
       "      <td>0</td>\n",
       "      <td>...</td>\n",
       "      <td>0</td>\n",
       "      <td>0</td>\n",
       "      <td>0</td>\n",
       "      <td>0</td>\n",
       "      <td>0</td>\n",
       "      <td>0</td>\n",
       "      <td>0</td>\n",
       "      <td>0</td>\n",
       "      <td>0</td>\n",
       "      <td>0</td>\n",
       "    </tr>\n",
       "    <tr>\n",
       "      <th>772</th>\n",
       "      <td>1</td>\n",
       "      <td>4</td>\n",
       "      <td>0</td>\n",
       "      <td>2</td>\n",
       "      <td>0</td>\n",
       "      <td>0</td>\n",
       "      <td>0</td>\n",
       "      <td>0</td>\n",
       "      <td>0</td>\n",
       "      <td>0</td>\n",
       "      <td>...</td>\n",
       "      <td>0</td>\n",
       "      <td>0</td>\n",
       "      <td>0</td>\n",
       "      <td>0</td>\n",
       "      <td>0</td>\n",
       "      <td>0</td>\n",
       "      <td>0</td>\n",
       "      <td>0</td>\n",
       "      <td>0</td>\n",
       "      <td>0</td>\n",
       "    </tr>\n",
       "  </tbody>\n",
       "</table>\n",
       "<p>5 rows × 1290 columns</p>\n",
       "</div>"
      ],
      "text/plain": [
       "     obama  clinton  mccain  said  people  just  like  campaign  democratic  \\\n",
       "768      0        0       0     3       1     1     0         0           3   \n",
       "769      0        0       0     0       1     0     0         2           2   \n",
       "770      3        1       0     1       0     0     0         0           1   \n",
       "771      2        1       3     0       0     1     0         1           0   \n",
       "772      1        4       0     2       0     0     0         0           0   \n",
       "\n",
       "     new   ...    blow  land  web  spread  essentially  publicly  heavy  heck  \\\n",
       "768    5   ...       0     0    0       0            0         1      0     0   \n",
       "769    0   ...       0     0    1       0            0         0      0     0   \n",
       "770    2   ...       0     0    0       0            0         0      0     0   \n",
       "771    0   ...       0     0    0       0            0         0      0     0   \n",
       "772    0   ...       0     0    0       0            0         0      0     0   \n",
       "\n",
       "     hundreds  sounds  \n",
       "768         0       0  \n",
       "769         0       0  \n",
       "770         0       0  \n",
       "771         0       0  \n",
       "772         0       0  \n",
       "\n",
       "[5 rows x 1290 columns]"
      ]
     },
     "execution_count": 88,
     "metadata": {},
     "output_type": "execute_result"
    }
   ],
   "source": [
    "word_count.tail()"
   ]
  },
  {
   "cell_type": "code",
   "execution_count": 99,
   "metadata": {},
   "outputs": [],
   "source": [
    "democrat = y_train.index[y_train == 100].tolist()\n",
    "republican = y_train.index[y_train == -100].tolist()"
   ]
  },
  {
   "cell_type": "code",
   "execution_count": 56,
   "metadata": {},
   "outputs": [],
   "source": [
    "frequency_democrat = X_train.loc[democrat].sum(axis=0)/X_train.loc[liberal].sum(axis=0).sum()\n",
    "frequency_republican = X_train.loc[republican].sum(axis=0)/X_train.loc[republican].sum(axis=0).sum()"
   ]
  },
  {
   "cell_type": "code",
   "execution_count": null,
   "metadata": {},
   "outputs": [],
   "source": [
    "y_train.index[y_train[]]"
   ]
  },
  {
   "cell_type": "code",
   "execution_count": null,
   "metadata": {},
   "outputs": [],
   "source": [
    "def get_frequencies(data):\n",
    "    frequencies = data.sum()/data.sum().sum()\n",
    "    return frequencies"
   ]
  },
  {
   "cell_type": "code",
   "execution_count": 200,
   "metadata": {
    "autoscroll": false,
    "ein.hycell": false,
    "ein.tags": "worksheet-0",
    "slideshow": {
     "slide_type": "-"
    }
   },
   "outputs": [],
   "source": [
    "class MClassifier():\n",
    "    \n",
    "    def __init__(self, class_priors = [.5,.5], alpha = 0.00001):\n",
    "        self.alpha = alpha \n",
    "        \n",
    "        #In this exercise priors are given but they could be estimated and maximized using EM\n",
    "        self.priors = np.log(class_priors)\n",
    "\n",
    "    def ml(self, df):\n",
    "        \n",
    "        #The maximum likelihood estimator for the multinomial probabilities is just the frequencies of each clas\n",
    "        self.groups = y_train.unique()\n",
    "        self.frequencies = [df[y_train == group].sum()/df[y_train == group].sum().sum() for group in self.groups]\n",
    "        self.frequencies[0][self.frequencies[0] == 0] = self.alpha\n",
    "        self.frequencies[1][self.frequencies[1] == 0] = self.alpha\n",
    "        pass\n",
    "\n",
    "    def predict_proba(self, X_to_predict):\n",
    "        \n",
    "        # Log-probabilities/frequencies:\n",
    "        log_frequencies = [np.log(f) for f in self.frequencies]\n",
    "        \n",
    "        # Dot product between log probabilities -> because we are calculating the probability of observing\n",
    "        # each word X_to_predict times = P_i*N_i + N_j*P_j, since we are using log probabilities\n",
    "        # and observations are independent.\n",
    "        #likelihood will contain the probability of obtaining a word for each category P(w|B) times the probability\n",
    "        # of B = P(w|B)*P(B) which is the probability of observing this. Since we are working with log-probs\n",
    "        # this is: logP(w|B) + logP(B)\n",
    "        \n",
    "        likelihood = [X_to_predict @ log_frequency + pri for log_frequency, pri in zip(log_frequencies, self.priors)]\n",
    "        #To fully complete Bayes theorem we have to divide by the probability P(w) in general. So we will \n",
    "        #substract P(w), in order to calculate this We need to exp our likelihoods and then do the log of the sum\n",
    "        \n",
    "        p_w = logsumexp(likelihood)\n",
    "    \n",
    "        #Now we can calculate P(B|w) with bayes theorem logP(B|w) = logP(w|B)+logP(B) - logP(w)\n",
    "        \n",
    "        probs = likelihood - p_w\n",
    "        \n",
    "        return np.exp(probs)\n",
    "\n",
    "    def predict(self, X):\n",
    "        \n",
    "        predictions = []\n",
    "        \n",
    "        for _, row in X.iterrows():\n",
    "            predictions.append(np.argmax(self.predict_proba(row)))\n",
    "            \n",
    "        return np.array([self.groups[i] for i in predictions])"
   ]
  },
  {
   "cell_type": "code",
   "execution_count": 510,
   "metadata": {},
   "outputs": [
    {
     "data": {
      "text/plain": [
       "0.3997412677878396"
      ]
     },
     "execution_count": 510,
     "metadata": {},
     "output_type": "execute_result"
    }
   ],
   "source": [
    "ratings[ratings==100].count()/ratings.count()"
   ]
  },
  {
   "cell_type": "code",
   "execution_count": 511,
   "metadata": {},
   "outputs": [
    {
     "data": {
      "text/plain": [
       "0.6002587322121604"
      ]
     },
     "execution_count": 511,
     "metadata": {},
     "output_type": "execute_result"
    }
   ],
   "source": [
    "ratings[ratings==-100].count()/ratings.count()"
   ]
  },
  {
   "cell_type": "code",
   "execution_count": 202,
   "metadata": {
    "autoscroll": false,
    "ein.hycell": false,
    "ein.tags": "worksheet-0",
    "slideshow": {
     "slide_type": "-"
    }
   },
   "outputs": [
    {
     "data": {
      "text/plain": [
       "51"
      ]
     },
     "execution_count": 202,
     "metadata": {},
     "output_type": "execute_result"
    }
   ],
   "source": [
    "# see how your algorithm does\n",
    "\n",
    "c = MClassifier(class_priors = [.6, .4])\n",
    "c.ml(X_train)\n",
    "\n",
    "(c.predict(X_test) != y_test).sum()"
   ]
  },
  {
   "cell_type": "markdown",
   "metadata": {
    "ein.tags": "worksheet-0",
    "slideshow": {
     "slide_type": "-"
    }
   },
   "source": [
    "# EM algorithm for Binomial data\n",
    "\n",
    "You are a run-of-the-mill magician, working the streets to make ends meet. One of your staple tricks relies on having special fake coins, which are biased. \n",
    "\n",
    "Unfortunately, something has gone wrong, and you have forgotten which coins are biased in which way (more heads? more tails? You can't remember!). You know that there are 2 types of coins, but you have hundreds. \n",
    "\n",
    "You decide to flip each coin 30 times, and record the number of times it comes up heads. Based on this data, you need to determine, which coin is of which type, and estimate the bias of each type, so that you can get back to the streets and make that bread."
   ]
  },
  {
   "cell_type": "code",
   "execution_count": 176,
   "metadata": {
    "autoscroll": false,
    "ein.hycell": false,
    "ein.tags": "worksheet-0",
    "slideshow": {
     "slide_type": "-"
    }
   },
   "outputs": [],
   "source": [
    "coin_flips = pd.read_csv('coins.csv').heads.values"
   ]
  },
  {
   "cell_type": "code",
   "execution_count": 177,
   "metadata": {},
   "outputs": [
    {
     "data": {
      "text/plain": [
       "array([ 7, 12, 13,  8, 16,  8,  9, 16,  8,  7, 10,  8, 10, 15, 10, 11,  8,\n",
       "        8,  7,  7,  7, 10, 13, 11, 10, 11, 11, 13,  6, 13,  8,  8, 12, 11,\n",
       "        9,  8, 12,  7, 10, 12,  9,  8,  9, 13, 13,  9,  9, 12,  5, 10, 19,\n",
       "       20, 23, 19, 20, 19, 21, 18, 17, 17, 16, 22, 20, 14, 18, 19, 22, 14,\n",
       "       20, 22, 15, 21, 18, 16, 16, 21, 19, 19, 18, 20, 20, 18, 19, 21, 23,\n",
       "       20, 13, 19, 18, 20, 15, 19, 24, 14, 19, 19, 20, 23, 14, 17, 21, 23,\n",
       "       15, 19, 14, 23, 19, 18, 15, 19, 21, 25, 22, 19, 18, 16, 23, 22, 13,\n",
       "       17, 19, 21, 18, 16, 15, 18, 18, 12, 21, 15, 17, 19, 18, 22, 20, 17,\n",
       "       18, 21, 19, 20, 19, 20, 19, 17, 18, 22, 17, 22, 18, 17, 24, 24, 16,\n",
       "       21, 13, 16, 18, 18, 17, 20, 18, 16, 16, 14, 17, 17, 19, 22, 17, 21,\n",
       "       24, 16, 22, 18, 21, 19, 19, 16, 20, 16, 17, 17, 21, 24, 13, 17, 18,\n",
       "       24, 13, 16, 19, 20, 15, 18, 17, 22, 18, 15, 19, 16, 14, 20, 15, 24,\n",
       "       21, 20, 20, 19, 22, 17, 23, 16, 18, 21, 17, 19, 18, 19, 20, 16, 18,\n",
       "       21, 16, 20, 25, 23, 19, 18, 17, 21, 18, 22, 20, 23, 22, 13, 19, 18,\n",
       "       21, 23, 20, 16, 20, 19, 18, 16, 15, 18, 21, 19])"
      ]
     },
     "execution_count": 177,
     "metadata": {},
     "output_type": "execute_result"
    }
   ],
   "source": [
    "coin_flips "
   ]
  },
  {
   "cell_type": "code",
   "execution_count": 2,
   "metadata": {},
   "outputs": [],
   "source": [
    "def expectation(heads, priors, probs):\n",
    "    \n",
    "    #P(x|z,B), probability of obtaining a certain value of heads given one of the types\n",
    "    pcond_head = np.array([binom.pmf(heads, 30, prob) for prob in probs])\n",
    "    \n",
    "    #Now we compute the probability of being from a certain type depending on the prior and the parameters\n",
    "    #P(z|x,B) = P(x|z,B)*P(z)/P(x)\n",
    "    probz1 = pcond_head[0]*priors[0]/(pcond_head[0]*priors[0] + pcond_head[1]*priors[1]) #T1\n",
    "    probz2 = pcond_head[1]*priors[1]/(pcond_head[1]*priors[1] + pcond_head[0]*priors[0]) #T2\n",
    "    \n",
    "    return probz1, probz2\n",
    "\n",
    "\n",
    "    \n",
    "    "
   ]
  },
  {
   "cell_type": "code",
   "execution_count": 189,
   "metadata": {},
   "outputs": [],
   "source": [
    "def maximization(heads, probz1, probz2, priors, probs):\n",
    "    \n",
    "    \n",
    "    #We update the priors given the conditional probabilities\n",
    "    priors[0] = np.mean(probz1)\n",
    "    priors[1] = np.mean(probz2)\n",
    "    \n",
    "    #We update the probability parameter of each type of coin\n",
    "    probs[0] = (probz1 @ heads) / (30*sum(probz1))\n",
    "    probs[1] = (probz2 @ heads) / (30*sum(probz2))\n",
    "    \n",
    "    return priors, probs\n",
    "    "
   ]
  },
  {
   "cell_type": "code",
   "execution_count": 190,
   "metadata": {},
   "outputs": [],
   "source": [
    "def EM(heads, priors, probs):\n",
    "    dif = 1000\n",
    "    while dif > 1e-7:\n",
    "        \n",
    "        probz1, probz2 = expectation(heads, priors, probs)\n",
    "        priors, new_probs = maximization(heads, probz1, probz2, priors, probs)\n",
    "        dif = np.linalg.norm(new_probs - probs)\n",
    "        probs = new_probs\n",
    "        \n",
    "    return probs, priors\n",
    "    "
   ]
  },
  {
   "cell_type": "code",
   "execution_count": 738,
   "metadata": {},
   "outputs": [
    {
     "data": {
      "text/plain": [
       "(array([0.36115288, 0.63969119]), array([0.266, 0.734]))"
      ]
     },
     "execution_count": 738,
     "metadata": {},
     "output_type": "execute_result"
    }
   ],
   "source": [
    "init_betas = np.array([0.0001, 0.9999])\n",
    "init_p_z = np.array([0.5, 0.5])\n",
    "\n",
    "betas, p_z = EM(coin_flips, init_p_z, init_betas)\n",
    "\n",
    "betas, p_z"
   ]
  },
  {
   "cell_type": "code",
   "execution_count": 753,
   "metadata": {},
   "outputs": [],
   "source": [
    "def sim(n, p, N):\n",
    "    p = p + np.random.normal(0,.02,1)\n",
    "    return np.random.binomial(n, p, N)\n",
    "\n",
    "n = 30\n",
    "k = np.concatenate([sim(n, .35, 50), sim(n, .60, 200)])"
   ]
  },
  {
   "cell_type": "code",
   "execution_count": 754,
   "metadata": {},
   "outputs": [
    {
     "data": {
      "text/plain": [
       "(array([0.41542208, 0.61579193]), array([0.33101418, 0.66898582]))"
      ]
     },
     "execution_count": 754,
     "metadata": {},
     "output_type": "execute_result"
    }
   ],
   "source": [
    "init_betas = np.array([0.4, 0.6])\n",
    "init_p_z = np.array([0.5, 0.5])\n",
    "\n",
    "betas, p_z = EM(k, init_p_z, init_betas)\n",
    "\n",
    "betas, p_z"
   ]
  },
  {
   "cell_type": "code",
   "execution_count": null,
   "metadata": {},
   "outputs": [],
   "source": []
  },
  {
   "cell_type": "markdown",
   "metadata": {
    "ein.tags": "worksheet-0",
    "slideshow": {
     "slide_type": "-"
    }
   },
   "source": [
    "# Simple Binomial updating\n",
    "\n",
    "Practise visualizing the conjugate posterior updates of a Beta-Binomial model!\n",
    "\n",
    "https://en.wikipedia.org/wiki/Conjugate_prior"
   ]
  },
  {
   "cell_type": "code",
   "execution_count": null,
   "metadata": {
    "autoscroll": false,
    "ein.hycell": false,
    "ein.tags": "worksheet-0",
    "slideshow": {
     "slide_type": "-"
    }
   },
   "outputs": [],
   "source": [
    "coin_heads = 20\n",
    "coin_tails = 15\n",
    "\n",
    "prior_alpha = 2\n",
    "prior_beta = 2\n",
    "\n",
    "alpha = # update alpha parameter of beta distribution \n",
    "beta = # update alpha parameter of beta distribution \n",
    "sns.distplot(np.random.beta(alpha, beta, size = 10000))"
   ]
  },
  {
   "cell_type": "markdown",
   "metadata": {
    "ein.tags": "worksheet-0",
    "slideshow": {
     "slide_type": "-"
    }
   },
   "source": [
    "# EM for multinomial\n",
    "\n",
    "Using your own solution, or mine from the answers branch, revisit the multinomial (naive bayes) text classifier and attempt to perform the same problem in an unsupervised fashion: without the labels, try and recover two clusters using a mixter of multinomials model."
   ]
  },
  {
   "cell_type": "code",
   "execution_count": 79,
   "metadata": {
    "autoscroll": false,
    "ein.hycell": false,
    "ein.tags": "worksheet-0",
    "slideshow": {
     "slide_type": "-"
    }
   },
   "outputs": [],
   "source": [
    "def expectationM(blogs, priors, probs):\n",
    "    #P(x|z,B), probability of obtaining a certain value of words given one of the types\n",
    "    pcond_head = np.array([[multinomial.pmf(blog, n = sum(blog), p = prob) for _, blog in blogs.iterrows()] for prob in probs])\n",
    "\n",
    "    \n",
    "    pcond_head[0][pcond_head[0] == 0] = 1e-300\n",
    "    pcond_head[1][pcond_head[1] == 0] = 1e-300\n",
    "\n",
    "    #Now we compute the probability of being from a certain type depending on the prior and the parameters\n",
    "    #P(z|x,B) = P(x|z,B)*P(z)/P(x)\n",
    "    \n",
    "    \n",
    "    \n",
    "    probz1 = pcond_head[0]*priors[0]/(pcond_head[0]*priors[0] + pcond_head[1]*priors[1]) #T1\n",
    "    probz2 = pcond_head[1]*priors[1]/(pcond_head[1]*priors[1] + pcond_head[0]*priors[0]) #T2\n",
    "    \n",
    "  \n",
    "    #probz1 = np.nan_to_num(probz1)\n",
    "    #probz2 = np.nan_to_num(probz2)\n",
    "    \n",
    "    #probz1 = probz1[~np.isnan(probz1)]\n",
    "    #probz2 = probz2[~np.isnan(probz2)]\n",
    "    \n",
    "    return probz1, probz2\n",
    "\n"
   ]
  },
  {
   "cell_type": "code",
   "execution_count": 83,
   "metadata": {},
   "outputs": [],
   "source": [
    "def maximizationM(blogs, probz1, probz2, priors):\n",
    "    \n",
    "    probs = [np.zeros(len(blogs.columns)), np.zeros(len(blogs.columns))]\n",
    "    \n",
    "    \n",
    "    #We update the priors given the conditional probabilities\n",
    "    priors[0] = np.mean(probz1)\n",
    "    priors[1] = np.mean(probz2)\n",
    "    \n",
    "    #We update the probability parameter of each type of coin\n",
    "    \n",
    "    \n",
    "    N = np.sum(blogs, axis = 1)\n",
    "    blogs_frequencies =  blogs.loc[:, :].div(blogs.sum(axis=1), axis=0)\n",
    "    \n",
    " \n",
    "    for j in range(len(probs[1])):\n",
    "        probs[0][j] = (probz1 @ blogs_frequencies.iloc[:, j])/sum(probz1)\n",
    "    \n",
    "    for j in range(len(probs[1])):\n",
    "        probs[1][j] = (probz2 @ blogs_frequencies.iloc[:, j])/sum(probz2)\n",
    "                \n",
    "    \n",
    "    return priors, probs"
   ]
  },
  {
   "cell_type": "code",
   "execution_count": 93,
   "metadata": {},
   "outputs": [],
   "source": [
    "def EMM(blogs, priors, probs):\n",
    "    dif = 1000\n",
    "    while dif > 1e-3:\n",
    "        \n",
    "        probz1, probz2 = expectationM(blogs, priors, probs)\n",
    "        priors, new_probs = maximizationM(blogs, probz1, probz2, priors)\n",
    "        dif = np.linalg.norm(new_probs[0] - probs[0])\n",
    "        probs = new_probs\n",
    "        print(priors)\n",
    "    return probs, priors"
   ]
  },
  {
   "cell_type": "code",
   "execution_count": 308,
   "metadata": {},
   "outputs": [
    {
     "data": {
      "text/plain": [
       "range(0, 2)"
      ]
     },
     "execution_count": 308,
     "metadata": {},
     "output_type": "execute_result"
    }
   ],
   "source": [
    "probs = [np.zeros(len(word_count.columns)), np.zeros(len(word_count.columns))]\n",
    "range(len(probs))"
   ]
  },
  {
   "cell_type": "code",
   "execution_count": 89,
   "metadata": {},
   "outputs": [
    {
     "data": {
      "text/plain": [
       "True"
      ]
     },
     "execution_count": 89,
     "metadata": {},
     "output_type": "execute_result"
    }
   ],
   "source": [
    "_, n= word_count.shape\n",
    "\n",
    "probs = []\n",
    "for i in range(2):\n",
    "    probs1 = np.random.choice(100, n)\n",
    "    probs1 = probs1/sum(probs1)\n",
    "    if sum(probs1 != 1):\n",
    "        remaining = 1 - sum(probs1)\n",
    "        probs1[0] += remaining\n",
    "    probs.append(probs1)\n",
    "\n",
    "sum(probs[0])==1"
   ]
  },
  {
   "cell_type": "code",
   "execution_count": 90,
   "metadata": {},
   "outputs": [
    {
     "name": "stdout",
     "output_type": "stream",
     "text": [
      "True\n",
      "True\n"
     ]
    }
   ],
   "source": [
    "print(sum(probs[0])==1)\n",
    "print(sum(probs[1])==1)"
   ]
  },
  {
   "cell_type": "code",
   "execution_count": 716,
   "metadata": {},
   "outputs": [],
   "source": [
    "A, B = expectationM(word_count, [0.5, 0.5], probs)"
   ]
  },
  {
   "cell_type": "code",
   "execution_count": 708,
   "metadata": {},
   "outputs": [
    {
     "data": {
      "text/plain": [
       "0.0"
      ]
     },
     "execution_count": 708,
     "metadata": {},
     "output_type": "execute_result"
    }
   ],
   "source": [
    "blog = word_count.iloc[[1]]\n",
    "blog = np.array(blog.values.tolist()[0])\n",
    "multinomial.pmf(blog, n = np.sum(blog), p = probs[1])"
   ]
  },
  {
   "cell_type": "code",
   "execution_count": 707,
   "metadata": {},
   "outputs": [
    {
     "data": {
      "text/plain": [
       "299"
      ]
     },
     "execution_count": 707,
     "metadata": {},
     "output_type": "execute_result"
    }
   ],
   "source": [
    "np.sum(blog)"
   ]
  },
  {
   "cell_type": "code",
   "execution_count": 755,
   "metadata": {},
   "outputs": [
    {
     "data": {
      "text/plain": [
       "0.5377950059998902"
      ]
     },
     "execution_count": 755,
     "metadata": {},
     "output_type": "execute_result"
    }
   ],
   "source": [
    "np.mean(B)"
   ]
  },
  {
   "cell_type": "code",
   "execution_count": 756,
   "metadata": {},
   "outputs": [
    {
     "data": {
      "text/plain": [
       "0.4622049940001099"
      ]
     },
     "execution_count": 756,
     "metadata": {},
     "output_type": "execute_result"
    }
   ],
   "source": [
    "np.mean(A)"
   ]
  },
  {
   "cell_type": "code",
   "execution_count": 757,
   "metadata": {},
   "outputs": [
    {
     "data": {
      "text/plain": [
       "([0.329612111864556, 0.670387888135444],\n",
       " [array([2.32076806e-02, 1.65403697e-02, 1.10016068e-02, ...,\n",
       "         6.26105660e-05, 2.38636146e-04, 3.28689422e-04]),\n",
       "  array([0.03927095, 0.02641601, 0.01665618, ..., 0.00074198, 0.00040816,\n",
       "         0.00033984])])"
      ]
     },
     "execution_count": 757,
     "metadata": {},
     "output_type": "execute_result"
    }
   ],
   "source": [
    "probz1, probz2 = expectationM(word_count, [0.2, 0.8], probs)\n",
    "maximizationM(word_count, probz1, probz2, [0.2, 0.8])"
   ]
  },
  {
   "cell_type": "code",
   "execution_count": 109,
   "metadata": {
    "scrolled": true
   },
   "outputs": [
    {
     "name": "stdout",
     "output_type": "stream",
     "text": [
      "[0.49724022090950637, 0.5027597790904936]\n",
      "[0.48826780643383705, 0.511732193566163]\n",
      "[0.4873234870254682, 0.5126765129745318]\n",
      "[0.4602983320605599, 0.5397016679394401]\n",
      "[0.42609889488593294, 0.5739011051140671]\n",
      "[0.4093840202013797, 0.5906159797986202]\n",
      "[0.4026334084147236, 0.5973665915852765]\n",
      "[0.402118960160367, 0.597881039839633]\n",
      "[0.4029094524334761, 0.5970905475665239]\n",
      "[0.40247865823850615, 0.5975213417614939]\n"
     ]
    }
   ],
   "source": [
    "PROBS, PRIORS = EMM(word_count, [0.5, 0.5], probs)"
   ]
  },
  {
   "cell_type": "code",
   "execution_count": 110,
   "metadata": {},
   "outputs": [],
   "source": [
    "data1 = np.random.multinomial(20, [0.1, 0.2, 0.3, 0.4], size=100)\n",
    "data2 = np.random.multinomial(20, [0.45, 0.21, 0.3, 0.04], size=50)"
   ]
  },
  {
   "cell_type": "code",
   "execution_count": 111,
   "metadata": {},
   "outputs": [],
   "source": [
    "df1 = pd.DataFrame.from_records(data1)\n",
    "df2 = pd.DataFrame.from_records(data2)\n",
    "df = pd.concat([df1, df2])\n",
    "df = df.reset_index()\n",
    "df = df.drop(columns=['index'])"
   ]
  },
  {
   "cell_type": "code",
   "execution_count": 112,
   "metadata": {},
   "outputs": [
    {
     "data": {
      "text/html": [
       "<div>\n",
       "<style scoped>\n",
       "    .dataframe tbody tr th:only-of-type {\n",
       "        vertical-align: middle;\n",
       "    }\n",
       "\n",
       "    .dataframe tbody tr th {\n",
       "        vertical-align: top;\n",
       "    }\n",
       "\n",
       "    .dataframe thead th {\n",
       "        text-align: right;\n",
       "    }\n",
       "</style>\n",
       "<table border=\"1\" class=\"dataframe\">\n",
       "  <thead>\n",
       "    <tr style=\"text-align: right;\">\n",
       "      <th></th>\n",
       "      <th>0</th>\n",
       "      <th>1</th>\n",
       "      <th>2</th>\n",
       "      <th>3</th>\n",
       "    </tr>\n",
       "  </thead>\n",
       "  <tbody>\n",
       "    <tr>\n",
       "      <th>0</th>\n",
       "      <td>3</td>\n",
       "      <td>6</td>\n",
       "      <td>4</td>\n",
       "      <td>7</td>\n",
       "    </tr>\n",
       "    <tr>\n",
       "      <th>1</th>\n",
       "      <td>1</td>\n",
       "      <td>4</td>\n",
       "      <td>5</td>\n",
       "      <td>10</td>\n",
       "    </tr>\n",
       "    <tr>\n",
       "      <th>2</th>\n",
       "      <td>3</td>\n",
       "      <td>3</td>\n",
       "      <td>5</td>\n",
       "      <td>9</td>\n",
       "    </tr>\n",
       "    <tr>\n",
       "      <th>3</th>\n",
       "      <td>2</td>\n",
       "      <td>4</td>\n",
       "      <td>7</td>\n",
       "      <td>7</td>\n",
       "    </tr>\n",
       "    <tr>\n",
       "      <th>4</th>\n",
       "      <td>1</td>\n",
       "      <td>3</td>\n",
       "      <td>5</td>\n",
       "      <td>11</td>\n",
       "    </tr>\n",
       "  </tbody>\n",
       "</table>\n",
       "</div>"
      ],
      "text/plain": [
       "   0  1  2   3\n",
       "0  3  6  4   7\n",
       "1  1  4  5  10\n",
       "2  3  3  5   9\n",
       "3  2  4  7   7\n",
       "4  1  3  5  11"
      ]
     },
     "execution_count": 112,
     "metadata": {},
     "output_type": "execute_result"
    }
   ],
   "source": [
    "df.head()"
   ]
  },
  {
   "cell_type": "code",
   "execution_count": 113,
   "metadata": {},
   "outputs": [],
   "source": [
    "probs = [[0.1, 0.1, 0.1, 0.7],\n",
    "         [0.2, 0.2, 0.2, 0.4]]"
   ]
  },
  {
   "cell_type": "code",
   "execution_count": 114,
   "metadata": {},
   "outputs": [
    {
     "name": "stdout",
     "output_type": "stream",
     "text": [
      "[0.07724156646794685, 0.9227584335320531]\n",
      "[0.18205365081879768, 0.8179463491812026]\n",
      "[0.32743238563426424, 0.6725676143657358]\n",
      "[0.47996985715024415, 0.5200301428497559]\n",
      "[0.5973373273678694, 0.4026626726321305]\n",
      "[0.649566655882691, 0.35043334411730903]\n",
      "[0.6662502323103762, 0.3337497676896239]\n",
      "[0.6710744482040928, 0.3289255517959072]\n",
      "[0.672425155903766, 0.327574844096234]\n"
     ]
    },
    {
     "data": {
      "text/plain": [
       "([array([0.10065052, 0.21248633, 0.29648874, 0.39037442]),\n",
       "  array([0.43853609, 0.2110017 , 0.30313739, 0.04732482])],\n",
       " [0.672425155903766, 0.327574844096234])"
      ]
     },
     "execution_count": 114,
     "metadata": {},
     "output_type": "execute_result"
    }
   ],
   "source": [
    "EMM(df, [0.5, 0.5], probs)"
   ]
  },
  {
   "cell_type": "markdown",
   "metadata": {
    "ein.tags": "worksheet-0",
    "slideshow": {
     "slide_type": "-"
    }
   },
   "source": [
    "# Problems with Wages\n",
    "\n",
    "In this problem , you will see (simulated) data for \"wages\" in an industry.\n",
    " \n",
    "We believe that wages come from \"high skill\" and \"low skill\" workers, with \"high skill\" workers earning more. But \"skill\" is a latent variable that we cannot measure. The only data we have is the wages themselves. \n",
    "\n",
    "With this data, estimate the percentage of high skill vs. low skill workers in the industry, and say something about the difference in how they are paid."
   ]
  },
  {
   "cell_type": "code",
   "execution_count": 6,
   "metadata": {
    "autoscroll": false,
    "ein.hycell": false,
    "ein.tags": "worksheet-0",
    "slideshow": {
     "slide_type": "-"
    }
   },
   "outputs": [
    {
     "data": {
      "text/plain": [
       "<matplotlib.axes._subplots.AxesSubplot at 0x1160198d0>"
      ]
     },
     "execution_count": 6,
     "metadata": {},
     "output_type": "execute_result"
    },
    {
     "data": {
      "image/png": "[encoded data removed]",
      "text/plain": [
       "<Figure size 432x288 with 1 Axes>"
      ]
     },
     "metadata": {},
     "output_type": "display_data"
    }
   ],
   "source": [
    "wages = pd.read_csv('wages.csv')\n",
    "sns.distplot(wages.values, bins=40)"
   ]
  },
  {
   "cell_type": "code",
   "execution_count": 132,
   "metadata": {
    "scrolled": true
   },
   "outputs": [
    {
     "data": {
      "text/html": [
       "<div>\n",
       "<style scoped>\n",
       "    .dataframe tbody tr th:only-of-type {\n",
       "        vertical-align: middle;\n",
       "    }\n",
       "\n",
       "    .dataframe tbody tr th {\n",
       "        vertical-align: top;\n",
       "    }\n",
       "\n",
       "    .dataframe thead th {\n",
       "        text-align: right;\n",
       "    }\n",
       "</style>\n",
       "<table border=\"1\" class=\"dataframe\">\n",
       "  <thead>\n",
       "    <tr style=\"text-align: right;\">\n",
       "      <th></th>\n",
       "      <th>wage</th>\n",
       "    </tr>\n",
       "  </thead>\n",
       "  <tbody>\n",
       "    <tr>\n",
       "      <th>0</th>\n",
       "      <td>93.787678</td>\n",
       "    </tr>\n",
       "    <tr>\n",
       "      <th>1</th>\n",
       "      <td>30.739403</td>\n",
       "    </tr>\n",
       "    <tr>\n",
       "      <th>2</th>\n",
       "      <td>34.928079</td>\n",
       "    </tr>\n",
       "    <tr>\n",
       "      <th>3</th>\n",
       "      <td>97.399753</td>\n",
       "    </tr>\n",
       "    <tr>\n",
       "      <th>4</th>\n",
       "      <td>33.312498</td>\n",
       "    </tr>\n",
       "    <tr>\n",
       "      <th>5</th>\n",
       "      <td>46.806906</td>\n",
       "    </tr>\n",
       "    <tr>\n",
       "      <th>6</th>\n",
       "      <td>71.045196</td>\n",
       "    </tr>\n",
       "    <tr>\n",
       "      <th>7</th>\n",
       "      <td>70.702203</td>\n",
       "    </tr>\n",
       "    <tr>\n",
       "      <th>8</th>\n",
       "      <td>31.974941</td>\n",
       "    </tr>\n",
       "    <tr>\n",
       "      <th>9</th>\n",
       "      <td>129.599855</td>\n",
       "    </tr>\n",
       "    <tr>\n",
       "      <th>10</th>\n",
       "      <td>72.621304</td>\n",
       "    </tr>\n",
       "    <tr>\n",
       "      <th>11</th>\n",
       "      <td>48.117256</td>\n",
       "    </tr>\n",
       "    <tr>\n",
       "      <th>12</th>\n",
       "      <td>71.094696</td>\n",
       "    </tr>\n",
       "    <tr>\n",
       "      <th>13</th>\n",
       "      <td>89.645403</td>\n",
       "    </tr>\n",
       "    <tr>\n",
       "      <th>14</th>\n",
       "      <td>84.605333</td>\n",
       "    </tr>\n",
       "    <tr>\n",
       "      <th>15</th>\n",
       "      <td>80.036288</td>\n",
       "    </tr>\n",
       "    <tr>\n",
       "      <th>16</th>\n",
       "      <td>70.261684</td>\n",
       "    </tr>\n",
       "    <tr>\n",
       "      <th>17</th>\n",
       "      <td>78.467543</td>\n",
       "    </tr>\n",
       "    <tr>\n",
       "      <th>18</th>\n",
       "      <td>69.682342</td>\n",
       "    </tr>\n",
       "    <tr>\n",
       "      <th>19</th>\n",
       "      <td>75.038506</td>\n",
       "    </tr>\n",
       "    <tr>\n",
       "      <th>20</th>\n",
       "      <td>48.189774</td>\n",
       "    </tr>\n",
       "    <tr>\n",
       "      <th>21</th>\n",
       "      <td>101.343801</td>\n",
       "    </tr>\n",
       "    <tr>\n",
       "      <th>22</th>\n",
       "      <td>62.371693</td>\n",
       "    </tr>\n",
       "    <tr>\n",
       "      <th>23</th>\n",
       "      <td>53.580005</td>\n",
       "    </tr>\n",
       "    <tr>\n",
       "      <th>24</th>\n",
       "      <td>179.860003</td>\n",
       "    </tr>\n",
       "    <tr>\n",
       "      <th>25</th>\n",
       "      <td>104.945391</td>\n",
       "    </tr>\n",
       "    <tr>\n",
       "      <th>26</th>\n",
       "      <td>63.090677</td>\n",
       "    </tr>\n",
       "    <tr>\n",
       "      <th>27</th>\n",
       "      <td>43.743498</td>\n",
       "    </tr>\n",
       "    <tr>\n",
       "      <th>28</th>\n",
       "      <td>142.705626</td>\n",
       "    </tr>\n",
       "    <tr>\n",
       "      <th>29</th>\n",
       "      <td>92.723627</td>\n",
       "    </tr>\n",
       "    <tr>\n",
       "      <th>...</th>\n",
       "      <td>...</td>\n",
       "    </tr>\n",
       "    <tr>\n",
       "      <th>170</th>\n",
       "      <td>346.909696</td>\n",
       "    </tr>\n",
       "    <tr>\n",
       "      <th>171</th>\n",
       "      <td>264.918120</td>\n",
       "    </tr>\n",
       "    <tr>\n",
       "      <th>172</th>\n",
       "      <td>192.209426</td>\n",
       "    </tr>\n",
       "    <tr>\n",
       "      <th>173</th>\n",
       "      <td>266.482911</td>\n",
       "    </tr>\n",
       "    <tr>\n",
       "      <th>174</th>\n",
       "      <td>206.008399</td>\n",
       "    </tr>\n",
       "    <tr>\n",
       "      <th>175</th>\n",
       "      <td>241.668364</td>\n",
       "    </tr>\n",
       "    <tr>\n",
       "      <th>176</th>\n",
       "      <td>217.139709</td>\n",
       "    </tr>\n",
       "    <tr>\n",
       "      <th>177</th>\n",
       "      <td>139.436324</td>\n",
       "    </tr>\n",
       "    <tr>\n",
       "      <th>178</th>\n",
       "      <td>163.007898</td>\n",
       "    </tr>\n",
       "    <tr>\n",
       "      <th>179</th>\n",
       "      <td>198.082951</td>\n",
       "    </tr>\n",
       "    <tr>\n",
       "      <th>180</th>\n",
       "      <td>139.872624</td>\n",
       "    </tr>\n",
       "    <tr>\n",
       "      <th>181</th>\n",
       "      <td>179.000359</td>\n",
       "    </tr>\n",
       "    <tr>\n",
       "      <th>182</th>\n",
       "      <td>247.023989</td>\n",
       "    </tr>\n",
       "    <tr>\n",
       "      <th>183</th>\n",
       "      <td>215.590216</td>\n",
       "    </tr>\n",
       "    <tr>\n",
       "      <th>184</th>\n",
       "      <td>199.954891</td>\n",
       "    </tr>\n",
       "    <tr>\n",
       "      <th>185</th>\n",
       "      <td>381.947313</td>\n",
       "    </tr>\n",
       "    <tr>\n",
       "      <th>186</th>\n",
       "      <td>169.646345</td>\n",
       "    </tr>\n",
       "    <tr>\n",
       "      <th>187</th>\n",
       "      <td>239.578128</td>\n",
       "    </tr>\n",
       "    <tr>\n",
       "      <th>188</th>\n",
       "      <td>248.323735</td>\n",
       "    </tr>\n",
       "    <tr>\n",
       "      <th>189</th>\n",
       "      <td>217.488790</td>\n",
       "    </tr>\n",
       "    <tr>\n",
       "      <th>190</th>\n",
       "      <td>139.913160</td>\n",
       "    </tr>\n",
       "    <tr>\n",
       "      <th>191</th>\n",
       "      <td>150.776833</td>\n",
       "    </tr>\n",
       "    <tr>\n",
       "      <th>192</th>\n",
       "      <td>197.870987</td>\n",
       "    </tr>\n",
       "    <tr>\n",
       "      <th>193</th>\n",
       "      <td>139.705647</td>\n",
       "    </tr>\n",
       "    <tr>\n",
       "      <th>194</th>\n",
       "      <td>155.175538</td>\n",
       "    </tr>\n",
       "    <tr>\n",
       "      <th>195</th>\n",
       "      <td>271.036953</td>\n",
       "    </tr>\n",
       "    <tr>\n",
       "      <th>196</th>\n",
       "      <td>156.618136</td>\n",
       "    </tr>\n",
       "    <tr>\n",
       "      <th>197</th>\n",
       "      <td>172.047597</td>\n",
       "    </tr>\n",
       "    <tr>\n",
       "      <th>198</th>\n",
       "      <td>277.813459</td>\n",
       "    </tr>\n",
       "    <tr>\n",
       "      <th>199</th>\n",
       "      <td>271.052641</td>\n",
       "    </tr>\n",
       "  </tbody>\n",
       "</table>\n",
       "<p>200 rows × 1 columns</p>\n",
       "</div>"
      ],
      "text/plain": [
       "           wage\n",
       "0     93.787678\n",
       "1     30.739403\n",
       "2     34.928079\n",
       "3     97.399753\n",
       "4     33.312498\n",
       "5     46.806906\n",
       "6     71.045196\n",
       "7     70.702203\n",
       "8     31.974941\n",
       "9    129.599855\n",
       "10    72.621304\n",
       "11    48.117256\n",
       "12    71.094696\n",
       "13    89.645403\n",
       "14    84.605333\n",
       "15    80.036288\n",
       "16    70.261684\n",
       "17    78.467543\n",
       "18    69.682342\n",
       "19    75.038506\n",
       "20    48.189774\n",
       "21   101.343801\n",
       "22    62.371693\n",
       "23    53.580005\n",
       "24   179.860003\n",
       "25   104.945391\n",
       "26    63.090677\n",
       "27    43.743498\n",
       "28   142.705626\n",
       "29    92.723627\n",
       "..          ...\n",
       "170  346.909696\n",
       "171  264.918120\n",
       "172  192.209426\n",
       "173  266.482911\n",
       "174  206.008399\n",
       "175  241.668364\n",
       "176  217.139709\n",
       "177  139.436324\n",
       "178  163.007898\n",
       "179  198.082951\n",
       "180  139.872624\n",
       "181  179.000359\n",
       "182  247.023989\n",
       "183  215.590216\n",
       "184  199.954891\n",
       "185  381.947313\n",
       "186  169.646345\n",
       "187  239.578128\n",
       "188  248.323735\n",
       "189  217.488790\n",
       "190  139.913160\n",
       "191  150.776833\n",
       "192  197.870987\n",
       "193  139.705647\n",
       "194  155.175538\n",
       "195  271.036953\n",
       "196  156.618136\n",
       "197  172.047597\n",
       "198  277.813459\n",
       "199  271.052641\n",
       "\n",
       "[200 rows x 1 columns]"
      ]
     },
     "execution_count": 132,
     "metadata": {},
     "output_type": "execute_result"
    }
   ],
   "source": [
    "wages"
   ]
  },
  {
   "cell_type": "code",
   "execution_count": 2,
   "metadata": {},
   "outputs": [],
   "source": [
    "import pylab as pl\n",
    "from sklearn.cluster import KMeans\n",
    "from sklearn.decomposition import PCA"
   ]
  },
  {
   "cell_type": "code",
   "execution_count": 135,
   "metadata": {},
   "outputs": [],
   "source": [
    "kmeans = KMeans(n_clusters=2)\n",
    "\n",
    "kmeansoutput = kmeans.fit_predict(wages)\n",
    "\n",
    "wages[\"KMEANS\"] = kmeansoutput\n",
    "\n",
    "#pl.figure('3 Cluster K-Means')\n",
    "\n",
    "#pl.scatter(pca_c[:, 0], pca_d[:, 0], c=kmeansoutput.labels_)\n",
    "\n",
    "#pl.xlabel('Dividend Yield')\n",
    "\n",
    "#pl.ylabel('Returns')\n",
    "\n",
    "#pl.title('3 Cluster K-Means')\n",
    "\n",
    "#pl.show()"
   ]
  },
  {
   "cell_type": "code",
   "execution_count": 136,
   "metadata": {},
   "outputs": [],
   "source": [
    "wages1 = wages[wages[\"KMEANS\"]==0]\n",
    "wages2 = wages[wages[\"KMEANS\"]==1]"
   ]
  },
  {
   "cell_type": "code",
   "execution_count": 137,
   "metadata": {},
   "outputs": [
    {
     "data": {
      "text/plain": [
       "<matplotlib.axes._subplots.AxesSubplot at 0x1a1e20f6a0>"
      ]
     },
     "execution_count": 137,
     "metadata": {},
     "output_type": "execute_result"
    },
    {
     "data": {
      "image/png": "[encoded data removed]",
      "text/plain": [
       "<Figure size 432x288 with 1 Axes>"
      ]
     },
     "metadata": {},
     "output_type": "display_data"
    }
   ],
   "source": [
    "sns.distplot(wages1[\"wage\"], bins = 20)\n",
    "sns.distplot(wages2[\"wage\"], bins = 20)\n",
    "sns.distplot(wages[\"wage\"], bins=40)"
   ]
  },
  {
   "cell_type": "code",
   "execution_count": 138,
   "metadata": {},
   "outputs": [
    {
     "data": {
      "text/plain": [
       "134"
      ]
     },
     "execution_count": 138,
     "metadata": {},
     "output_type": "execute_result"
    }
   ],
   "source": [
    "len(wages1) #real value = 125"
   ]
  },
  {
   "cell_type": "code",
   "execution_count": 139,
   "metadata": {},
   "outputs": [
    {
     "data": {
      "text/plain": [
       "66"
      ]
     },
     "execution_count": 139,
     "metadata": {},
     "output_type": "execute_result"
    }
   ],
   "source": [
    "len(wages2) # real value = 75"
   ]
  },
  {
   "cell_type": "code",
   "execution_count": 6,
   "metadata": {},
   "outputs": [],
   "source": [
    "pca = PCA(n_components=1).fit(wages)\n",
    "pca_d = pca.transform(wages)"
   ]
  },
  {
   "cell_type": "code",
   "execution_count": 8,
   "metadata": {},
   "outputs": [
    {
     "data": {
      "text/plain": [
       "<matplotlib.axes._subplots.AxesSubplot at 0x1a1841ecc0>"
      ]
     },
     "execution_count": 8,
     "metadata": {},
     "output_type": "execute_result"
    },
    {
     "data": {
      "image/png": "[encoded data removed]",
      "text/plain": [
       "<Figure size 432x288 with 1 Axes>"
      ]
     },
     "metadata": {},
     "output_type": "display_data"
    }
   ],
   "source": [
    "sns.distplot(pca_d)"
   ]
  },
  {
   "cell_type": "code",
   "execution_count": 12,
   "metadata": {},
   "outputs": [],
   "source": [
    "kmeans = KMeans(n_clusters=2)\n",
    "kmeansoutput = kmeans.fit_predict(pca_d)\n",
    "wages[\"KMEANS\"] = kmeansoutput"
   ]
  },
  {
   "cell_type": "code",
   "execution_count": 13,
   "metadata": {},
   "outputs": [],
   "source": [
    "wages1 = wages[wages[\"KMEANS\"]==0]\n",
    "wages2 = wages[wages[\"KMEANS\"]==1]"
   ]
  },
  {
   "cell_type": "code",
   "execution_count": 14,
   "metadata": {},
   "outputs": [
    {
     "data": {
      "text/plain": [
       "<matplotlib.axes._subplots.AxesSubplot at 0x1a18754208>"
      ]
     },
     "execution_count": 14,
     "metadata": {},
     "output_type": "execute_result"
    },
    {
     "data": {
      "image/png": "[encoded data removed]",
      "text/plain": [
       "<Figure size 432x288 with 1 Axes>"
      ]
     },
     "metadata": {},
     "output_type": "display_data"
    }
   ],
   "source": [
    "sns.distplot(wages1[\"wage\"], bins = 20)\n",
    "sns.distplot(wages2[\"wage\"], bins = 20)\n",
    "sns.distplot(wages[\"wage\"], bins=40)"
   ]
  },
  {
   "cell_type": "code",
   "execution_count": 134,
   "metadata": {},
   "outputs": [
    {
     "data": {
      "text/plain": [
       "wage      80.795765\n",
       "KMEANS     0.000000\n",
       "dtype: float64"
      ]
     },
     "execution_count": 134,
     "metadata": {},
     "output_type": "execute_result"
    }
   ],
   "source": [
    "wages1.mean()"
   ]
  },
  {
   "cell_type": "code",
   "execution_count": 135,
   "metadata": {},
   "outputs": [
    {
     "data": {
      "text/plain": [
       "wage      231.111749\n",
       "KMEANS      1.000000\n",
       "dtype: float64"
      ]
     },
     "execution_count": 135,
     "metadata": {},
     "output_type": "execute_result"
    }
   ],
   "source": [
    "wages2.mean()"
   ]
  },
  {
   "cell_type": "code",
   "execution_count": 2,
   "metadata": {},
   "outputs": [],
   "source": [
    "def expectationN(wages, priors, normals):\n",
    "    \n",
    "    #P(x|z,B), probability of obtaining a certain value of heads given one of the types\n",
    "    pcond_head = np.array([norm.pdf(wages, loc = normal[0], scale = normal[1]) for normal in normals])\n",
    "   \n",
    "\n",
    "    pcond_head[0][pcond_head[0] == 0] = 1e-300\n",
    "    pcond_head[1][pcond_head[1] == 0] = 1e-300\n",
    "    #Now we compute the probability of being from a certain type depending on the prior and the parameters\n",
    "    #P(z|x,B) = P(x|z,B)*P(z)/P(x)\n",
    "    probz1 = (pcond_head[0]*priors[0])/(pcond_head[0]*priors[0] + pcond_head[1]*priors[1]) #T1\n",
    "    probz2 = (pcond_head[1]*priors[1])/(pcond_head[1]*priors[1] + pcond_head[0]*priors[0]) #T2\n",
    "    \n",
    "    return probz1, probz2"
   ]
  },
  {
   "cell_type": "code",
   "execution_count": 3,
   "metadata": {},
   "outputs": [],
   "source": [
    "def maximizationN(wages, probz1, probz2, priors):\n",
    "    \n",
    "    normals1 = [[0 , 0], [0, 0]]\n",
    "    #We update the priors given the conditional probabilities\n",
    "    priors[0] = np.mean(probz1)\n",
    "    priors[1] = np.mean(probz2)\n",
    "    \n",
    "    #We update the probability parameter of each type of coin\n",
    "    normals1[0][0] = (probz1 @ wages.iloc[:, 0]) / (sum(probz1))\n",
    "    normals1[1][0] = (probz2 @ wages.iloc[:, 0]) / (sum(probz2))\n",
    "    \n",
    "    normals1[0][1] = np.sqrt((probz1 @ ((wages.iloc[:, 0] - normals1[0][0])**2))/(sum(probz1)))\n",
    "    normals1[1][1] = np.sqrt((probz2 @ ((wages.iloc[:, 0] - normals1[1][0])**2))/(sum(probz2)))\n",
    "    \n",
    "    return priors, normals1"
   ]
  },
  {
   "cell_type": "code",
   "execution_count": 4,
   "metadata": {},
   "outputs": [],
   "source": [
    "def EMN(wages, priors, normals1):\n",
    "    dif = 1000\n",
    "    while dif > 1e-7:\n",
    "        \n",
    "        probz1, probz2 = expectationN(wages, priors, normals1)\n",
    "        priors, new_normals = maximizationN(wages, probz1, probz2, priors)\n",
    "        dif = np.linalg.norm(np.array(new_normals) - np.array(normals1))\n",
    "        normals1 = new_normals\n",
    "        print(priors)\n",
    "        \n",
    "    return normals1, priors"
   ]
  },
  {
   "cell_type": "code",
   "execution_count": 5,
   "metadata": {},
   "outputs": [],
   "source": [
    "normals = [[93, 60],\n",
    "          [150, 90]]"
   ]
  },
  {
   "cell_type": "code",
   "execution_count": 11,
   "metadata": {},
   "outputs": [
    {
     "data": {
      "text/html": [
       "<div>\n",
       "<style scoped>\n",
       "    .dataframe tbody tr th:only-of-type {\n",
       "        vertical-align: middle;\n",
       "    }\n",
       "\n",
       "    .dataframe tbody tr th {\n",
       "        vertical-align: top;\n",
       "    }\n",
       "\n",
       "    .dataframe thead th {\n",
       "        text-align: right;\n",
       "    }\n",
       "</style>\n",
       "<table border=\"1\" class=\"dataframe\">\n",
       "  <thead>\n",
       "    <tr style=\"text-align: right;\">\n",
       "      <th></th>\n",
       "      <th>wage</th>\n",
       "    </tr>\n",
       "  </thead>\n",
       "  <tbody>\n",
       "    <tr>\n",
       "      <th>0</th>\n",
       "      <td>93.787678</td>\n",
       "    </tr>\n",
       "    <tr>\n",
       "      <th>1</th>\n",
       "      <td>30.739403</td>\n",
       "    </tr>\n",
       "    <tr>\n",
       "      <th>2</th>\n",
       "      <td>34.928079</td>\n",
       "    </tr>\n",
       "    <tr>\n",
       "      <th>3</th>\n",
       "      <td>97.399753</td>\n",
       "    </tr>\n",
       "    <tr>\n",
       "      <th>4</th>\n",
       "      <td>33.312498</td>\n",
       "    </tr>\n",
       "    <tr>\n",
       "      <th>5</th>\n",
       "      <td>46.806906</td>\n",
       "    </tr>\n",
       "    <tr>\n",
       "      <th>6</th>\n",
       "      <td>71.045196</td>\n",
       "    </tr>\n",
       "    <tr>\n",
       "      <th>7</th>\n",
       "      <td>70.702203</td>\n",
       "    </tr>\n",
       "    <tr>\n",
       "      <th>8</th>\n",
       "      <td>31.974941</td>\n",
       "    </tr>\n",
       "    <tr>\n",
       "      <th>9</th>\n",
       "      <td>129.599855</td>\n",
       "    </tr>\n",
       "    <tr>\n",
       "      <th>10</th>\n",
       "      <td>72.621304</td>\n",
       "    </tr>\n",
       "    <tr>\n",
       "      <th>11</th>\n",
       "      <td>48.117256</td>\n",
       "    </tr>\n",
       "    <tr>\n",
       "      <th>12</th>\n",
       "      <td>71.094696</td>\n",
       "    </tr>\n",
       "    <tr>\n",
       "      <th>13</th>\n",
       "      <td>89.645403</td>\n",
       "    </tr>\n",
       "    <tr>\n",
       "      <th>14</th>\n",
       "      <td>84.605333</td>\n",
       "    </tr>\n",
       "    <tr>\n",
       "      <th>15</th>\n",
       "      <td>80.036288</td>\n",
       "    </tr>\n",
       "    <tr>\n",
       "      <th>16</th>\n",
       "      <td>70.261684</td>\n",
       "    </tr>\n",
       "    <tr>\n",
       "      <th>17</th>\n",
       "      <td>78.467543</td>\n",
       "    </tr>\n",
       "    <tr>\n",
       "      <th>18</th>\n",
       "      <td>69.682342</td>\n",
       "    </tr>\n",
       "    <tr>\n",
       "      <th>19</th>\n",
       "      <td>75.038506</td>\n",
       "    </tr>\n",
       "    <tr>\n",
       "      <th>20</th>\n",
       "      <td>48.189774</td>\n",
       "    </tr>\n",
       "    <tr>\n",
       "      <th>21</th>\n",
       "      <td>101.343801</td>\n",
       "    </tr>\n",
       "    <tr>\n",
       "      <th>22</th>\n",
       "      <td>62.371693</td>\n",
       "    </tr>\n",
       "    <tr>\n",
       "      <th>23</th>\n",
       "      <td>53.580005</td>\n",
       "    </tr>\n",
       "    <tr>\n",
       "      <th>24</th>\n",
       "      <td>179.860003</td>\n",
       "    </tr>\n",
       "    <tr>\n",
       "      <th>25</th>\n",
       "      <td>104.945391</td>\n",
       "    </tr>\n",
       "    <tr>\n",
       "      <th>26</th>\n",
       "      <td>63.090677</td>\n",
       "    </tr>\n",
       "    <tr>\n",
       "      <th>27</th>\n",
       "      <td>43.743498</td>\n",
       "    </tr>\n",
       "    <tr>\n",
       "      <th>28</th>\n",
       "      <td>142.705626</td>\n",
       "    </tr>\n",
       "    <tr>\n",
       "      <th>29</th>\n",
       "      <td>92.723627</td>\n",
       "    </tr>\n",
       "    <tr>\n",
       "      <th>...</th>\n",
       "      <td>...</td>\n",
       "    </tr>\n",
       "    <tr>\n",
       "      <th>170</th>\n",
       "      <td>346.909696</td>\n",
       "    </tr>\n",
       "    <tr>\n",
       "      <th>171</th>\n",
       "      <td>264.918120</td>\n",
       "    </tr>\n",
       "    <tr>\n",
       "      <th>172</th>\n",
       "      <td>192.209426</td>\n",
       "    </tr>\n",
       "    <tr>\n",
       "      <th>173</th>\n",
       "      <td>266.482911</td>\n",
       "    </tr>\n",
       "    <tr>\n",
       "      <th>174</th>\n",
       "      <td>206.008399</td>\n",
       "    </tr>\n",
       "    <tr>\n",
       "      <th>175</th>\n",
       "      <td>241.668364</td>\n",
       "    </tr>\n",
       "    <tr>\n",
       "      <th>176</th>\n",
       "      <td>217.139709</td>\n",
       "    </tr>\n",
       "    <tr>\n",
       "      <th>177</th>\n",
       "      <td>139.436324</td>\n",
       "    </tr>\n",
       "    <tr>\n",
       "      <th>178</th>\n",
       "      <td>163.007898</td>\n",
       "    </tr>\n",
       "    <tr>\n",
       "      <th>179</th>\n",
       "      <td>198.082951</td>\n",
       "    </tr>\n",
       "    <tr>\n",
       "      <th>180</th>\n",
       "      <td>139.872624</td>\n",
       "    </tr>\n",
       "    <tr>\n",
       "      <th>181</th>\n",
       "      <td>179.000359</td>\n",
       "    </tr>\n",
       "    <tr>\n",
       "      <th>182</th>\n",
       "      <td>247.023989</td>\n",
       "    </tr>\n",
       "    <tr>\n",
       "      <th>183</th>\n",
       "      <td>215.590216</td>\n",
       "    </tr>\n",
       "    <tr>\n",
       "      <th>184</th>\n",
       "      <td>199.954891</td>\n",
       "    </tr>\n",
       "    <tr>\n",
       "      <th>185</th>\n",
       "      <td>381.947313</td>\n",
       "    </tr>\n",
       "    <tr>\n",
       "      <th>186</th>\n",
       "      <td>169.646345</td>\n",
       "    </tr>\n",
       "    <tr>\n",
       "      <th>187</th>\n",
       "      <td>239.578128</td>\n",
       "    </tr>\n",
       "    <tr>\n",
       "      <th>188</th>\n",
       "      <td>248.323735</td>\n",
       "    </tr>\n",
       "    <tr>\n",
       "      <th>189</th>\n",
       "      <td>217.488790</td>\n",
       "    </tr>\n",
       "    <tr>\n",
       "      <th>190</th>\n",
       "      <td>139.913160</td>\n",
       "    </tr>\n",
       "    <tr>\n",
       "      <th>191</th>\n",
       "      <td>150.776833</td>\n",
       "    </tr>\n",
       "    <tr>\n",
       "      <th>192</th>\n",
       "      <td>197.870987</td>\n",
       "    </tr>\n",
       "    <tr>\n",
       "      <th>193</th>\n",
       "      <td>139.705647</td>\n",
       "    </tr>\n",
       "    <tr>\n",
       "      <th>194</th>\n",
       "      <td>155.175538</td>\n",
       "    </tr>\n",
       "    <tr>\n",
       "      <th>195</th>\n",
       "      <td>271.036953</td>\n",
       "    </tr>\n",
       "    <tr>\n",
       "      <th>196</th>\n",
       "      <td>156.618136</td>\n",
       "    </tr>\n",
       "    <tr>\n",
       "      <th>197</th>\n",
       "      <td>172.047597</td>\n",
       "    </tr>\n",
       "    <tr>\n",
       "      <th>198</th>\n",
       "      <td>277.813459</td>\n",
       "    </tr>\n",
       "    <tr>\n",
       "      <th>199</th>\n",
       "      <td>271.052641</td>\n",
       "    </tr>\n",
       "  </tbody>\n",
       "</table>\n",
       "<p>200 rows × 1 columns</p>\n",
       "</div>"
      ],
      "text/plain": [
       "           wage\n",
       "0     93.787678\n",
       "1     30.739403\n",
       "2     34.928079\n",
       "3     97.399753\n",
       "4     33.312498\n",
       "5     46.806906\n",
       "6     71.045196\n",
       "7     70.702203\n",
       "8     31.974941\n",
       "9    129.599855\n",
       "10    72.621304\n",
       "11    48.117256\n",
       "12    71.094696\n",
       "13    89.645403\n",
       "14    84.605333\n",
       "15    80.036288\n",
       "16    70.261684\n",
       "17    78.467543\n",
       "18    69.682342\n",
       "19    75.038506\n",
       "20    48.189774\n",
       "21   101.343801\n",
       "22    62.371693\n",
       "23    53.580005\n",
       "24   179.860003\n",
       "25   104.945391\n",
       "26    63.090677\n",
       "27    43.743498\n",
       "28   142.705626\n",
       "29    92.723627\n",
       "..          ...\n",
       "170  346.909696\n",
       "171  264.918120\n",
       "172  192.209426\n",
       "173  266.482911\n",
       "174  206.008399\n",
       "175  241.668364\n",
       "176  217.139709\n",
       "177  139.436324\n",
       "178  163.007898\n",
       "179  198.082951\n",
       "180  139.872624\n",
       "181  179.000359\n",
       "182  247.023989\n",
       "183  215.590216\n",
       "184  199.954891\n",
       "185  381.947313\n",
       "186  169.646345\n",
       "187  239.578128\n",
       "188  248.323735\n",
       "189  217.488790\n",
       "190  139.913160\n",
       "191  150.776833\n",
       "192  197.870987\n",
       "193  139.705647\n",
       "194  155.175538\n",
       "195  271.036953\n",
       "196  156.618136\n",
       "197  172.047597\n",
       "198  277.813459\n",
       "199  271.052641\n",
       "\n",
       "[200 rows x 1 columns]"
      ]
     },
     "execution_count": 11,
     "metadata": {},
     "output_type": "execute_result"
    }
   ],
   "source": [
    "wages"
   ]
  },
  {
   "cell_type": "code",
   "execution_count": 333,
   "metadata": {},
   "outputs": [],
   "source": [
    "probz1, probz2 = expectationN(wages, [0.5, 0.5], normals)"
   ]
  },
  {
   "cell_type": "code",
   "execution_count": 258,
   "metadata": {},
   "outputs": [
    {
     "data": {
      "text/plain": [
       "array([172.06508604])"
      ]
     },
     "execution_count": 258,
     "metadata": {},
     "output_type": "execute_result"
    }
   ],
   "source": [
    "normals[1][0][0]"
   ]
  },
  {
   "cell_type": "code",
   "execution_count": 374,
   "metadata": {},
   "outputs": [],
   "source": [
    "a=(wages.iloc[:, 0] - normals[0][0])**2 "
   ]
  },
  {
   "cell_type": "code",
   "execution_count": 376,
   "metadata": {},
   "outputs": [
    {
     "data": {
      "text/plain": [
       "array([8016.42190516])"
      ]
     },
     "execution_count": 376,
     "metadata": {},
     "output_type": "execute_result"
    }
   ],
   "source": [
    "probz1@a/sum(probz1)"
   ]
  },
  {
   "cell_type": "code",
   "execution_count": 269,
   "metadata": {},
   "outputs": [
    {
     "data": {
      "text/plain": [
       "array([[[ 131.90319961]],\n",
       "\n",
       "       [[6502.96296396]]])"
      ]
     },
     "execution_count": 269,
     "metadata": {},
     "output_type": "execute_result"
    }
   ],
   "source": [
    "np.array(normals[0])"
   ]
  },
  {
   "cell_type": "code",
   "execution_count": 335,
   "metadata": {},
   "outputs": [
    {
     "data": {
      "text/plain": [
       "([0.49999999999998906, 0.500000000000011],\n",
       " [[array([131.90319962]), array([6502.96296466])],\n",
       "  [array([131.90319962]), array([6502.96296466])]])"
      ]
     },
     "execution_count": 335,
     "metadata": {},
     "output_type": "execute_result"
    }
   ],
   "source": [
    "maximizationN(wages, probz1, probz2, [0.5, 0.5], normals)"
   ]
  },
  {
   "cell_type": "code",
   "execution_count": 7,
   "metadata": {
    "scrolled": true
   },
   "outputs": [
    {
     "name": "stdout",
     "output_type": "stream",
     "text": [
      "[0.12308827624286316, 0.8769117237571368]\n",
      "[0.1563871591681406, 0.8436128408318594]\n",
      "[0.2197477811004302, 0.7802522188995699]\n",
      "[0.2964092841769783, 0.7035907158230217]\n",
      "[0.35872088656907236, 0.6412791134309276]\n",
      "[0.4016696036736076, 0.5983303963263924]\n",
      "[0.4318986155707795, 0.5681013844292204]\n",
      "[0.45425647329809854, 0.5457435267019015]\n",
      "[0.47123735272757616, 0.5287626472724238]\n",
      "[0.48429780827677676, 0.5157021917232233]\n",
      "[0.49442437238596526, 0.5055756276140346]\n",
      "[0.5023287922060693, 0.4976712077939306]\n",
      "[0.5085347634013572, 0.4914652365986428]\n",
      "[0.513431601745599, 0.486568398254401]\n",
      "[0.5173116587028407, 0.48268834129715943]\n",
      "[0.5203967293174431, 0.4796032706825569]\n",
      "[0.5228567018855159, 0.47714329811448425]\n",
      "[0.5248228220605903, 0.4751771779394096]\n",
      "[0.5263972360735208, 0.4736027639264792]\n",
      "[0.5276599466260559, 0.4723400533739443]\n",
      "[0.5286739486621203, 0.47132605133787986]\n",
      "[0.5294890675100546, 0.47051093248994535]\n",
      "[0.5301448592416648, 0.46985514075833523]\n",
      "[0.5306728243143174, 0.4693271756856827]\n",
      "[0.531098112042847, 0.46890188795715304]\n",
      "[0.5314408431560493, 0.4685591568439507]\n",
      "[0.5317171428507904, 0.46828285714920964]\n",
      "[0.5319399523052186, 0.4680600476947815]\n",
      "[0.5321196692289192, 0.46788033077108065]\n",
      "[0.5322646555092314, 0.46773534449076865]\n",
      "[0.532381640883673, 0.467618359116327]\n",
      "[0.5324760448297318, 0.4675239551702683]\n",
      "[0.532552233831776, 0.467447766168224]\n",
      "[0.5326137273877559, 0.467386272612244]\n",
      "[0.5326633632247808, 0.4673366367752191]\n",
      "[0.5327034299682228, 0.46729657003177716]\n",
      "[0.5327357737856637, 0.4672642262143362]\n",
      "[0.5327618841828538, 0.4672381158171462]\n",
      "[0.5327829630743243, 0.46721703692567573]\n",
      "[0.5327999804199048, 0.46720001958009505]\n",
      "[0.5328137190601354, 0.4671862809398646]\n",
      "[0.5328248108605891, 0.46717518913941075]\n",
      "[0.5328337658583918, 0.46716623414160824]\n",
      "[0.5328409957713486, 0.4671590042286513]\n",
      "[0.5328468329636916, 0.4671531670363084]\n",
      "[0.5328515457488776, 0.4671484542511224]\n",
      "[0.532855350738435, 0.46714464926156496]\n",
      "[0.5328584228080816, 0.4671415771919183]\n",
      "[0.5328609031415263, 0.4671390968584737]\n",
      "[0.5328629057231699, 0.46713709427683014]\n",
      "[0.5328645225790886, 0.4671354774209115]\n",
      "[0.5328658280077994, 0.46713417199220053]\n",
      "[0.5328668819956491, 0.46713311800435087]\n",
      "[0.5328677329740504, 0.4671322670259495]\n",
      "[0.5328684200454405, 0.46713157995455945]\n",
      "[0.5328689747803677, 0.46713102521963246]\n",
      "[0.5328694226683541, 0.46713057733164587]\n",
      "[0.5328697842892555, 0.4671302157107445]\n",
      "[0.5328700762589681, 0.46712992374103196]\n",
      "[0.5328703119929631, 0.4671296880070369]\n",
      "[0.5328705023227401, 0.46712949767725986]\n",
      "[0.5328706559935396, 0.46712934400646056]\n",
      "[0.5328707800661823, 0.4671292199338177]\n",
      "[0.5328708802415101, 0.4671291197584898]\n",
      "[0.5328709611223325, 0.46712903887766755]\n",
      "[0.5328710264249189, 0.4671289735750812]\n",
      "[0.5328710791497546, 0.4671289208502454]\n",
      "[0.5328711217194082, 0.46712887828059174]\n",
      "[0.532871156089842, 0.46712884391015796]\n",
      "[0.5328711838402854, 0.46712881615971447]\n",
      "[0.5328712062457965, 0.4671287937542034]\n",
      "[0.5328712243358479, 0.4671287756641522]\n",
      "[0.5328712389416271, 0.467128761058373]\n",
      "[0.5328712507342304, 0.46712874926576964]\n",
      "[0.5328712602554951, 0.46712873974450486]\n",
      "[0.5328712679428975, 0.46712873205710254]\n",
      "[0.5328712741496523, 0.4671287258503478]\n",
      "[0.5328712791609423, 0.46712872083905765]\n",
      "[0.5328712832070228, 0.46712871679297713]\n",
      "[0.5328712864737999, 0.4671287135262002]\n",
      "[0.5328712891113726, 0.46712871088862734]\n",
      "[0.5328712912409306, 0.4671287087590694]\n",
      "[0.5328712929603207, 0.46712870703967935]\n",
      "[0.5328712943485442, 0.46712870565145587]\n",
      "[0.532871295469386, 0.46712870453061384]\n",
      "[0.5328712963743459, 0.46712870362565395]\n",
      "[0.5328712971050042, 0.46712870289499564]\n",
      "[0.5328712976949328, 0.46712870230506726]\n",
      "[0.5328712981712368, 0.4671287018287632]\n",
      "[0.5328712985558014, 0.4671287014441986]\n",
      "[0.5328712988662963, 0.46712870113370386]\n"
     ]
    },
    {
     "data": {
      "text/plain": [
       "([[array([72.08000933]), array([21.86360542])],\n",
       "  [array([200.14576539]), array([68.09045187])]],\n",
       " [0.5328712988662963, 0.46712870113370386])"
      ]
     },
     "execution_count": 7,
     "metadata": {},
     "output_type": "execute_result"
    }
   ],
   "source": [
    "EMN(wages, [0.1, 0.9], normals)"
   ]
  },
  {
   "cell_type": "code",
   "execution_count": 8,
   "metadata": {},
   "outputs": [],
   "source": [
    "data1 = np.random.normal(100, 10 , size =100)\n",
    "data2 = np.random.normal(200, 15, size = 500)"
   ]
  },
  {
   "cell_type": "code",
   "execution_count": 9,
   "metadata": {},
   "outputs": [],
   "source": [
    "df1 = pd.DataFrame(data1)\n",
    "df2 = pd.DataFrame(data2)\n",
    "df = pd.concat([df1, df2])\n",
    "df = df.reset_index()\n",
    "df = df.drop(columns=['index'])"
   ]
  },
  {
   "cell_type": "code",
   "execution_count": 10,
   "metadata": {},
   "outputs": [
    {
     "name": "stdout",
     "output_type": "stream",
     "text": [
      "[0.1754148443654844, 0.8245851556345157]\n",
      "[0.16673816679088035, 0.8332618332091195]\n",
      "[0.16666621789435546, 0.8333337821056446]\n",
      "[0.16666618870799377, 0.8333338112920061]\n",
      "[0.16666618870051061, 0.8333338112994894]\n"
     ]
    },
    {
     "data": {
      "text/plain": [
       "([[array([99.35459071]), array([8.96037389])],\n",
       "  [array([199.51204329]), array([15.25409284])]],\n",
       " [0.16666618870051061, 0.8333338112994894])"
      ]
     },
     "execution_count": 10,
     "metadata": {},
     "output_type": "execute_result"
    }
   ],
   "source": [
    "EMN(df, [0.5, 0.5], [[100, 20],[200, 10]])"
   ]
  },
  {
   "cell_type": "markdown",
   "metadata": {},
   "source": [
    "# Using SKLEARN"
   ]
  },
  {
   "cell_type": "code",
   "execution_count": 134,
   "metadata": {
    "scrolled": true
   },
   "outputs": [
    {
     "name": "stdout",
     "output_type": "stream",
     "text": [
      "Initialization 0\n",
      "  Iteration 0\n",
      "Initialization converged: True\n",
      "[[205.5851049]\n",
      " [ 73.123359 ]]\n",
      "[0.44374955 0.55625045]\n"
     ]
    }
   ],
   "source": [
    "clf = GaussianMixture(n_components=2, verbose =1)\n",
    "clf.fit(wages)\n",
    "print(clf.means_)\n",
    "print(clf.weights_)"
   ]
  },
  {
   "cell_type": "code",
   "execution_count": 97,
   "metadata": {},
   "outputs": [
    {
     "ename": "AttributeError",
     "evalue": "'GaussianMixture' object has no attribute 'var_'",
     "output_type": "error",
     "traceback": [
      "\u001b[0;31m---------------------------------------------------------------------------\u001b[0m",
      "\u001b[0;31mAttributeError\u001b[0m                            Traceback (most recent call last)",
      "\u001b[0;32m<ipython-input-97-f5c332ac6146>\u001b[0m in \u001b[0;36m<module>\u001b[0;34m()\u001b[0m\n\u001b[0;32m----> 1\u001b[0;31m \u001b[0mclf\u001b[0m\u001b[0;34m.\u001b[0m\u001b[0mvar_\u001b[0m\u001b[0;34m\u001b[0m\u001b[0m\n\u001b[0m",
      "\u001b[0;31mAttributeError\u001b[0m: 'GaussianMixture' object has no attribute 'var_'"
     ]
    }
   ],
   "source": [
    "clf.var_"
   ]
  },
  {
   "cell_type": "code",
   "execution_count": 128,
   "metadata": {},
   "outputs": [
    {
     "data": {
      "text/plain": [
       "array([0, 0, 0, 0, 0, 0, 0, 0, 0, 1, 0, 0, 0, 0, 0, 0, 0, 0, 0, 0, 0, 0,\n",
       "       0, 0, 1, 0, 0, 0, 1, 0, 0, 0, 0, 0, 0, 0, 1, 0, 0, 0, 1, 0, 1, 0,\n",
       "       0, 0, 0, 0, 0, 0, 0, 0, 0, 0, 0, 0, 0, 0, 0, 1, 0, 0, 0, 0, 0, 0,\n",
       "       0, 0, 0, 0, 0, 0, 0, 0, 0, 0, 0, 0, 1, 0, 0, 0, 0, 0, 0, 0, 0, 0,\n",
       "       0, 0, 0, 0, 0, 0, 0, 0, 0, 1, 0, 0, 0, 0, 0, 0, 0, 1, 0, 0, 0, 0,\n",
       "       0, 0, 0, 0, 0, 0, 0, 0, 0, 0, 0, 0, 0, 0, 0, 1, 1, 1, 1, 1, 1, 1,\n",
       "       1, 1, 1, 1, 1, 1, 1, 1, 1, 1, 1, 1, 1, 1, 1, 1, 1, 1, 1, 1, 1, 1,\n",
       "       1, 1, 1, 1, 1, 1, 1, 1, 1, 1, 1, 1, 1, 1, 1, 1, 1, 1, 1, 1, 1, 1,\n",
       "       1, 1, 1, 1, 1, 1, 1, 1, 1, 1, 1, 1, 1, 1, 1, 1, 1, 1, 1, 1, 1, 1,\n",
       "       1, 1])"
      ]
     },
     "execution_count": 128,
     "metadata": {},
     "output_type": "execute_result"
    }
   ],
   "source": [
    "clf.predict(wages)"
   ]
  },
  {
   "cell_type": "code",
   "execution_count": 125,
   "metadata": {},
   "outputs": [
    {
     "data": {
      "text/plain": [
       "<matplotlib.axes._subplots.AxesSubplot at 0x1a21cddda0>"
      ]
     },
     "execution_count": 125,
     "metadata": {},
     "output_type": "execute_result"
    },
    {
     "data": {
      "image/png": "[encoded data removed]",
      "text/plain": [
       "<Figure size 432x288 with 1 Axes>"
      ]
     },
     "metadata": {},
     "output_type": "display_data"
    }
   ],
   "source": [
    "sns.distplot(df, bins = 20)"
   ]
  },
  {
   "cell_type": "code",
   "execution_count": 57,
   "metadata": {},
   "outputs": [
    {
     "data": {
      "text/plain": [
       "array([0.50039894, 0.50398936, 0.5       , 0.46017216, 0.5       ])"
      ]
     },
     "execution_count": 57,
     "metadata": {},
     "output_type": "execute_result"
    }
   ],
   "source": [
    "norm.cdf([0.1, 1, 0, -10, 0],0,100)"
   ]
  }
 ],
 "metadata": {
  "kernelspec": {
   "display_name": "Python 3",
   "language": "python",
   "name": "python3"
  },
  "language_info": {
   "codemirror_mode": {
    "name": "ipython",
    "version": 3
   },
   "file_extension": ".py",
   "mimetype": "text/x-python",
   "name": "python",
   "nbconvert_exporter": "python",
   "pygments_lexer": "ipython3",
   "version": "3.6.5"
  },
  "name": "exercises.ipynb"
 },
 "nbformat": 4,
 "nbformat_minor": 2
}
