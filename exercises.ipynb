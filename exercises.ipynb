{
 "cells": [
  {
   "cell_type": "code",
   "execution_count": 9,
   "metadata": {
    "autoscroll": false,
    "collapsed": false,
    "ein.hycell": false,
    "ein.tags": "worksheet-0",
    "slideshow": {
     "slide_type": "-"
    }
   },
   "outputs": [],
   "source": [
    "import pandas as pd\n",
    "import numpy as np\n",
    "from functools import partial\n",
    "from scipy.optimize import minimize, Bounds\n",
    "from scipy.stats import binom\n",
    "from sklearn.utils.fixes import logsumexp\n",
    "from sklearn.model_selection import train_test_split\n",
    "import seaborn as sns"
   ]
  },
  {
   "cell_type": "markdown",
   "metadata": {
    "ein.tags": "worksheet-0",
    "slideshow": {
     "slide_type": "-"
    }
   },
   "source": [
    "# Political Blog Classification\n",
    "\n",
    "You have already seen this data in class. Your job is simply to build a classifier that learns to classify blogs as \"conservative\" or \"liberal\" based on their word usage."
   ]
  },
  {
   "cell_type": "code",
   "execution_count": 2,
   "metadata": {
    "autoscroll": false,
    "collapsed": false,
    "ein.hycell": false,
    "ein.tags": "worksheet-0",
    "slideshow": {
     "slide_type": "-"
    }
   },
   "outputs": [],
   "source": [
    "word_count = pd.read_csv('poliblog_wordcount.csv').drop('Unnamed: 0', 1)\n",
    "ratings = pd.read_csv('poliblog_ratings.csv', usecols=[1])['poliblog.ratings']\n",
    "\n",
    "X_train, X_test, y_train, y_test = train_test_split(word_count, ratings)"
   ]
  },
  {
   "cell_type": "code",
   "execution_count": 601,
   "metadata": {
    "autoscroll": false,
    "collapsed": false,
    "ein.hycell": false,
    "ein.tags": "worksheet-0",
    "slideshow": {
     "slide_type": "-"
    }
   },
   "outputs": [],
   "source": [
    "class MClassifier():\n",
    "    def __init__(self, class_priors = [.5,.5], alpha = 0.00001):\n",
    "        self.alpha = alpha \n",
    "        self.priors = np.log(class_priors)\n",
    "\n",
    "    def ml(self, df):\n",
    "        arr = df.values        \n",
    "        a = arr.sum(0) / arr.sum()\n",
    "        # smoothing for non-infinite values\n",
    "        a[a == 0] = self.alpha\n",
    "        return np.log(a)\n",
    "    \n",
    "    def fit(self, X, y):\n",
    "        self.classes = y_train.unique()\n",
    "        self.probs = [self.ml(X[y == c]) for c in self.classes]\n",
    "\n",
    "    def predict_proba(self, X):\n",
    "        probs = np.array([[x.dot(p) + pri \n",
    "                           for p,pri in zip(self.probs, self.priors)] \n",
    "                          for _,x in X.iterrows()])\n",
    "\n",
    "        # Normalize to give proper distribution!\n",
    "        probs = (probs - logsumexp(probs, axis=1)[:,np.newaxis])\n",
    "        return np.exp(probs)    \n",
    "\n",
    "    def predict(self, X):\n",
    "        p = [np.argmax(p) for p in self.predict_proba(X)]\n",
    "        return np.array([self.classes[i] for i in p])    "
   ]
  },
  {
   "cell_type": "code",
   "execution_count": null,
   "metadata": {
    "autoscroll": false,
    "collapsed": false,
    "ein.hycell": false,
    "ein.tags": "worksheet-0",
    "slideshow": {
     "slide_type": "-"
    }
   },
   "outputs": [],
   "source": [
    "# see how your algorithm does\n",
    "\n",
    "c = MClassifier(class_priors = [.5, 5])\n",
    "c.fit(X_train, y_train)\n",
    "\n",
    "(c.predict(X_test) != y_test).sum()"
   ]
  },
  {
   "cell_type": "markdown",
   "metadata": {
    "ein.tags": "worksheet-0",
    "slideshow": {
     "slide_type": "-"
    }
   },
   "source": [
    "# EM algorithm for Binomial data\n",
    "\n",
    "You are a run-of-the-mill magician, working the streets to make ends meet. One of your staple tricks relies on having special fake coins, which are biased. \n",
    "\n",
    "Ufortunately, something has gone wrong, and you have forgotten which coins are biased in which way (more heads? more tails? You can't remember!). You know that there are 2 types of coins, but you have hundreds. \n",
    "\n",
    "You decide to flip each coin 30 times, and record the number of times it comes up heads. Based on this data, you need to determine, which coin is of which type, and estimate the bias of each type, so that you can get back to the streets and make that bread."
   ]
  },
  {
   "cell_type": "code",
   "execution_count": 660,
   "metadata": {
    "autoscroll": false,
    "collapsed": false,
    "ein.hycell": false,
    "ein.tags": "worksheet-0",
    "slideshow": {
     "slide_type": "-"
    }
   },
   "outputs": [],
   "source": [
    "def sim(n, p, N):\n",
    "    p = p + np.random.normal(0,.02,1)\n",
    "    return np.random.binomial(n, p, N)\n",
    "\n",
    "n = 30\n",
    "k = np.concatenate([sim(n, .35, 50), sim(n, .6, 200)])\n",
    "pd.DataFrame(k, columns = ['heads']).to_csv('coins.csv', index=False)"
   ]
  },
  {
   "cell_type": "code",
   "execution_count": 676,
   "metadata": {
    "autoscroll": false,
    "collapsed": false,
    "ein.hycell": false,
    "ein.tags": "worksheet-0",
    "slideshow": {
     "slide_type": "-"
    }
   },
   "outputs": [],
   "source": [
    "def e_step(k, n, prev_betas, p_z):\n",
    "    # p(z) is prior on labels, which is updated each time\n",
    "\n",
    "    # likelihood = p(w | z, B)\n",
    "    likelihood = np.array([binom.pmf(k, n, b) for b in prev_betas]).T\n",
    "\n",
    "    # p(w,z,B) = p(w | z, B)p(z)p(B) >> here we are ignoring p(B):\n",
    "    # p(w,z) = p(w | z)p(z)\n",
    "    # implicitly assuming it to be uniform: p(w,z) = \\int_B p(w,z | B)p(B)\n",
    "    joint = (likelihood * p_z)\n",
    "\n",
    "    # p(z | w) = p(w,z) / normalizing_constant\n",
    "    normalizing_constant = joint.sum(axis=1)[:, np.newaxis]\n",
    "    return joint / normalizing_constant\n",
    "\n",
    "\n",
    "def m_step(k, n, responsiblity):\n",
    "    # Our \"prior\" on the distribution of class labels\n",
    "    # This calculates from our posterior:\n",
    "    # p(z) = \\sum_w p(z | w)p(w)\n",
    "    p_z = responsiblity.sum(axis=0) / k.shape[0]\n",
    "\n",
    "    # turn our data into a percentage of heads, \n",
    "    # rather than binomial output (counts of heads)\n",
    "    w = k/n\n",
    "\n",
    "    # argmax_B \\sum_z p(w | B,z)p(z | w)\n",
    "    # But of course, argmax B for a binomial distribution\n",
    "    # is simply the mean: \n",
    "    # E[w | z] = \\sum_w  w * p(w | z)\n",
    "    # where:\n",
    "    # p(w|z) = p(z|w)p(w) / p(z)\n",
    "    p_w = 1 / k.shape[0]\n",
    "    betas = np.dot(responsiblity.T, w) * p_w / p_z  \n",
    "    return betas, p_z\n",
    "\n",
    "def em(k, n, betas, p_z):\n",
    "    dif = 1000\n",
    "    while dif > 1e-7:\n",
    "        responsibility = e_step(k, n, betas, p_z)\n",
    "        new_betas, p_z = m_step(k, n, responsibility)\n",
    "        dif = np.linalg.norm(new_betas - betas)\n",
    "        betas = new_betas\n",
    "\n",
    "    return betas, p_z"
   ]
  },
  {
   "cell_type": "code",
   "execution_count": 677,
   "metadata": {
    "autoscroll": false,
    "collapsed": false,
    "ein.hycell": false,
    "ein.tags": "worksheet-0",
    "slideshow": {
     "slide_type": "-"
    }
   },
   "outputs": [
    {
     "data": {
      "text/plain": [
       "array([ 0.33613221,  0.62556944])"
      ]
     },
     "execution_count": 677,
     "metadata": {},
     "output_type": "execute_result"
    }
   ],
   "source": [
    "k = pd.read_csv('coins.csv').heads.values\n",
    "n = 30\n",
    "\n",
    "init_betas = [0.01, .99]\n",
    "init_p_z = [0.5, 0.5]\n",
    "\n",
    "betas, p_z = em(k, n, init_betas, init_p_z)\n",
    "\n",
    "betas"
   ]
  },
  {
   "cell_type": "markdown",
   "metadata": {
    "ein.tags": "worksheet-0",
    "slideshow": {
     "slide_type": "-"
    }
   },
   "source": [
    "# Simple Binomial updating\n",
    "\n",
    "Practise visualizing the conjugate posterior updates of a Beta-Binomial model!\n",
    "\n",
    "https://en.wikipedia.org/wiki/Conjugate_prior"
   ]
  },
  {
   "cell_type": "code",
   "execution_count": null,
   "metadata": {
    "autoscroll": false,
    "collapsed": false,
    "ein.hycell": false,
    "ein.tags": "worksheet-0",
    "slideshow": {
     "slide_type": "-"
    }
   },
   "outputs": [],
   "source": [
    "coin_heads = 20\n",
    "coin_tails = 15\n",
    "\n",
    "prior_alpha = 2\n",
    "prior_beta = 2\n",
    "\n",
    "alpha = prior_alpha + coin_heads\n",
    "beta = prior_alpha + coin_tails\n",
    "sns.distplot(np.random.beta(alpha, beta, size = 10000))"
   ]
  },
  {
   "cell_type": "markdown",
   "metadata": {
    "ein.tags": "worksheet-0",
    "slideshow": {
     "slide_type": "-"
    }
   },
   "source": [
    "# EM for multinomial\n",
    "\n",
    "Using your own solution, or mine from the answers branch, revisit the multinomial (naive bayes) text classifier and attempt to perform the same problem in an unsupervised fashion: without the labels, try and recover two clusters using a mixter of multinomials model."
   ]
  },
  {
   "cell_type": "code",
   "execution_count": null,
   "metadata": {
    "autoscroll": false,
    "collapsed": false,
    "ein.hycell": false,
    "ein.tags": "worksheet-0",
    "slideshow": {
     "slide_type": "-"
    }
   },
   "outputs": [],
   "source": []
  },
  {
   "cell_type": "markdown",
   "metadata": {
    "ein.tags": "worksheet-0",
    "slideshow": {
     "slide_type": "-"
    }
   },
   "source": [
    "# Problems with Wages\n",
    "\n",
    "In this problem , you will see (simulated) data for \"wages\" in an industry.\n",
    " \n",
    "We believe that wages come from \"high skill\" and \"low skill\" workers, with \"high skill\" workers earning more. But \"skill\" is a latent variable that we cannot measure. The only data we have is the wages themselves. \n",
    "\n",
    "With this data, estimate the percentage of high skill vs. low skill workers in the industry, and say something about the difference in how they are paid."
   ]
  },
  {
   "cell_type": "code",
   "execution_count": 568,
   "metadata": {
    "autoscroll": false,
    "collapsed": false,
    "ein.hycell": false,
    "ein.tags": "worksheet-0",
    "slideshow": {
     "slide_type": "-"
    }
   },
   "outputs": [
    {
     "data": {
      "text/plain": [
       "<matplotlib.axes._subplots.AxesSubplot at 0x7fdb0fddc320>"
      ]
     },
     "execution_count": 568,
     "metadata": {},
     "output_type": "execute_result"
    },
    {
     "data": {
      "image/png": "[encoded data removed]",
      "text/plain": [
       "<Figure size 432x288 with 1 Axes>"
      ]
     },
     "metadata": {},
     "output_type": "display_data"
    }
   ],
   "source": [
    "wages = pd.read_csv('wages.csv')\n",
    "sns.distplot(wages.values, bins=40)"
   ]
  },
  {
   "cell_type": "code",
   "execution_count": null,
   "metadata": {
    "autoscroll": false,
    "collapsed": false,
    "ein.hycell": false,
    "ein.tags": "worksheet-0",
    "slideshow": {
     "slide_type": "-"
    }
   },
   "outputs": [],
   "source": [
    "# SIMULATE WAGE DATA"
   ]
  },
  {
   "cell_type": "code",
   "execution_count": null,
   "metadata": {
    "autoscroll": false,
    "collapsed": false,
    "ein.hycell": false,
    "ein.tags": "worksheet-0",
    "slideshow": {
     "slide_type": "-"
    }
   },
   "outputs": [],
   "source": [
    "params = [(8,10,125), (15,15,75)]\n",
    "X = np.hstack([np.random.gamma(a,b,N) for a,b,N in params])\n",
    "_ = sns.distplot(X, bins = 40)"
   ]
  },
  {
   "cell_type": "code",
   "execution_count": 566,
   "metadata": {
    "autoscroll": false,
    "collapsed": false,
    "ein.hycell": false,
    "ein.tags": "worksheet-0",
    "slideshow": {
     "slide_type": "-"
    }
   },
   "outputs": [],
   "source": [
    "pd.DataFrame(X, columns=['wage']).to_csv('wages.csv', index=False)"
   ]
  }
 ],
 "metadata": {
  "kernelspec": {
   "display_name": "Python 3",
   "name": "python3"
  },
  "name": "exercises.ipynb"
 },
 "nbformat": 4,
 "nbformat_minor": 2
}
