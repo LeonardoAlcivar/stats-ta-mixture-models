{
 "cells": [
  {
   "cell_type": "code",
   "execution_count": 1,
   "metadata": {
    "autoscroll": false,
    "collapsed": false,
    "ein.hycell": false,
    "ein.tags": "worksheet-0",
    "slideshow": {
     "slide_type": "-"
    }
   },
   "outputs": [],
   "source": [
    "import pandas as pd\n",
    "import numpy as np"
   ]
  },
  {
   "cell_type": "code",
   "execution_count": 2,
   "metadata": {
    "autoscroll": false,
    "collapsed": false,
    "ein.hycell": false,
    "ein.tags": "worksheet-0",
    "slideshow": {
     "slide_type": "-"
    }
   },
   "outputs": [],
   "source": [
    "word_count = pd.read_csv('poliblog_wordcount.csv').drop('Unnamed: 0', 1)\n",
    "ratings = pd.read_csv('poliblog_ratings.csv', usecols=[1])['poliblog.ratings']"
   ]
  },
  {
   "cell_type": "code",
   "execution_count": 3,
   "metadata": {
    "autoscroll": false,
    "collapsed": false,
    "ein.hycell": false,
    "ein.tags": "worksheet-0",
    "slideshow": {
     "slide_type": "-"
    }
   },
   "outputs": [],
   "source": [
    "from sklearn.model_selection import train_test_split\n",
    "\n",
    "X_train, X_test, y_train, y_test = train_test_split(word_count, ratings)"
   ]
  },
  {
   "cell_type": "code",
   "execution_count": 4,
   "metadata": {
    "autoscroll": false,
    "collapsed": false,
    "ein.hycell": false,
    "ein.tags": "worksheet-0",
    "slideshow": {
     "slide_type": "-"
    }
   },
   "outputs": [
    {
     "data": {
      "text/plain": [
       "MultinomialNB(alpha=0.1, class_prior=[0.5, 0.5], fit_prior=False)"
      ]
     },
     "execution_count": 4,
     "metadata": {},
     "output_type": "execute_result"
    }
   ],
   "source": [
    "from sklearn.naive_bayes import MultinomialNB\n",
    "\n",
    "sk = MultinomialNB(alpha = 0.1, class_prior = [.5, .5], fit_prior = False)\n",
    "sk.fit(X_train, y_train)"
   ]
  },
  {
   "cell_type": "code",
   "execution_count": 5,
   "metadata": {
    "autoscroll": false,
    "collapsed": false,
    "ein.hycell": false,
    "ein.tags": "worksheet-0",
    "slideshow": {
     "slide_type": "-"
    }
   },
   "outputs": [],
   "source": [
    "class MClassifier():\n",
    "    def __init__(self, alpha = 0.00001):\n",
    "        self.alpha = alpha\n",
    "        pass\n",
    "\n",
    "    def ml(self, df):\n",
    "        arr = df.values        \n",
    "        a = arr.sum(0) / arr.sum()\n",
    "        \n",
    "        # smoothing for non-infinite values\n",
    "        a[a == 0] = self.alpha\n",
    "        return np.log(a)\n",
    "    \n",
    "    def fit(self, X, y):\n",
    "        self.classes = y_train.unique()\n",
    "        self.probs = [self.ml(X[y == c]) for c in self.classes]\n",
    "\n",
    "    def predict(self, X):\n",
    "        probs = [[x.dot(p) for p in self.probs] for i,x in X.iterrows()]\n",
    "        p = [np.argmax(p) for p in probs]\n",
    "        return np.array([self.classes[i] for i in p])\n",
    "        \n",
    "c = MClassifier()\n",
    "c.fit(X_train, y_train)"
   ]
  },
  {
   "cell_type": "code",
   "execution_count": 6,
   "metadata": {
    "autoscroll": false,
    "collapsed": false,
    "ein.hycell": false,
    "ein.tags": "worksheet-0",
    "slideshow": {
     "slide_type": "-"
    }
   },
   "outputs": [
    {
     "data": {
      "text/plain": [
       "False"
      ]
     },
     "execution_count": 6,
     "metadata": {},
     "output_type": "execute_result"
    }
   ],
   "source": [
    "np.all(sk.predict(X_test) ==  c.predict(X_test))"
   ]
  },
  {
   "cell_type": "code",
   "execution_count": 7,
   "metadata": {
    "autoscroll": false,
    "collapsed": false,
    "ein.hycell": false,
    "ein.tags": "worksheet-0",
    "slideshow": {
     "slide_type": "-"
    }
   },
   "outputs": [],
   "source": [
    "# Gaussian Mixture Model EM algorithm "
   ]
  },
  {
   "cell_type": "code",
   "execution_count": 41,
   "metadata": {
    "autoscroll": false,
    "collapsed": false,
    "ein.hycell": false,
    "ein.tags": "worksheet-0",
    "slideshow": {
     "slide_type": "-"
    }
   },
   "outputs": [],
   "source": [
    "import seaborn as sns"
   ]
  },
  {
   "cell_type": "code",
   "execution_count": 82,
   "metadata": {
    "autoscroll": false,
    "collapsed": false,
    "ein.hycell": false,
    "ein.tags": "worksheet-0",
    "slideshow": {
     "slide_type": "-"
    }
   },
   "outputs": [
    {
     "data": {
      "text/plain": [
       "array([ 0.06938614])"
      ]
     },
     "execution_count": 82,
     "metadata": {},
     "output_type": "execute_result"
    }
   ],
   "source": [
    "np.random.normal(0,.1,1)"
   ]
  },
  {
   "cell_type": "code",
   "execution_count": 145,
   "metadata": {
    "autoscroll": false,
    "collapsed": false,
    "ein.hycell": false,
    "ein.tags": "worksheet-0",
    "slideshow": {
     "slide_type": "-"
    }
   },
   "outputs": [
    {
     "data": {
      "text/plain": [
       "10.089499999999999"
      ]
     },
     "execution_count": 145,
     "metadata": {},
     "output_type": "execute_result"
    }
   ],
   "source": [
    "\n",
    "\n",
    "np.mean(sim(.5, 20, 20000))"
   ]
  },
  {
   "cell_type": "code",
   "execution_count": null,
   "metadata": {
    "autoscroll": false,
    "collapsed": false,
    "ein.hycell": false,
    "ein.tags": "worksheet-0",
    "slideshow": {
     "slide_type": "-"
    }
   },
   "outputs": [],
   "source": [
    "sns.distplot(np.random.beta(50,50,1000))"
   ]
  },
  {
   "cell_type": "code",
   "execution_count": 124,
   "metadata": {
    "autoscroll": false,
    "collapsed": false,
    "ein.hycell": false,
    "ein.tags": "worksheet-0",
    "slideshow": {
     "slide_type": "-"
    }
   },
   "outputs": [
    {
     "data": {
      "text/plain": [
       "array([ 0.5,  0. ,  0. ])"
      ]
     },
     "execution_count": 124,
     "metadata": {},
     "output_type": "execute_result"
    }
   ],
   "source": [
    "bernoulli.pmf([1,3,4], .5)"
   ]
  },
  {
   "cell_type": "code",
   "execution_count": 142,
   "metadata": {
    "autoscroll": false,
    "collapsed": false,
    "ein.hycell": false,
    "ein.tags": "worksheet-0",
    "slideshow": {
     "slide_type": "-"
    }
   },
   "outputs": [],
   "source": []
  },
  {
   "cell_type": "code",
   "execution_count": null,
   "metadata": {
    "autoscroll": false,
    "collapsed": false,
    "ein.hycell": false,
    "ein.tags": "worksheet-0",
    "slideshow": {
     "slide_type": "-"
    }
   },
   "outputs": [],
   "source": [
    "k"
   ]
  },
  {
   "cell_type": "code",
   "execution_count": 270,
   "metadata": {
    "autoscroll": false,
    "collapsed": false,
    "ein.hycell": false,
    "ein.tags": "worksheet-0",
    "slideshow": {
     "slide_type": "-"
    }
   },
   "outputs": [
    {
     "data": {
      "text/plain": [
       "array([11, 12, 15, 15, 16, 16, 17, 13, 14, 15, 14, 13, 17, 16, 14, 15, 14,\n       13, 15, 13, 14, 14, 16, 16, 12, 13, 16, 11, 14,  9, 16, 12, 14, 16,\n       15, 15, 13, 16, 14, 14, 11, 14, 12, 16, 12, 16, 16, 13, 14, 12, 18,\n       16, 14, 13, 16, 15, 14, 20, 16, 13, 13, 17, 15, 14, 14, 15, 17, 15,\n       19, 14, 16, 13, 17, 15, 15, 13, 16, 16, 12, 16, 15, 14, 13, 16, 15,\n       15, 13, 10, 15, 12, 15, 16, 14, 14, 17, 18, 17, 15, 15, 12])"
      ]
     },
     "execution_count": 270,
     "metadata": {},
     "output_type": "execute_result"
    }
   ],
   "source": []
  },
  {
   "cell_type": "code",
   "execution_count": 404,
   "metadata": {
    "autoscroll": false,
    "collapsed": false,
    "ein.hycell": false,
    "ein.tags": "worksheet-0",
    "slideshow": {
     "slide_type": "-"
    }
   },
   "outputs": [],
   "source": [
    "from sklearn.utils.fixes import logsumexp"
   ]
  },
  {
   "cell_type": "code",
   "execution_count": 422,
   "metadata": {
    "autoscroll": false,
    "collapsed": false,
    "ein.hycell": false,
    "ein.tags": "worksheet-0",
    "slideshow": {
     "slide_type": "-"
    }
   },
   "outputs": [],
   "source": [
    "?logsumexp"
   ]
  },
  {
   "cell_type": "code",
   "execution_count": 486,
   "metadata": {
    "autoscroll": false,
    "collapsed": false,
    "ein.hycell": false,
    "ein.tags": "worksheet-0",
    "slideshow": {
     "slide_type": "-"
    }
   },
   "outputs": [
    {
     "data": {
      "text/plain": [
       "array([-1.66091681,  0.83845856,  6.32905484,  5.20401701])"
      ]
     },
     "execution_count": 486,
     "metadata": {},
     "output_type": "execute_result"
    }
   ],
   "source": [
    "np.random.normal(0,1, (4,10)).sum(1)"
   ]
  },
  {
   "cell_type": "code",
   "execution_count": 415,
   "metadata": {
    "autoscroll": false,
    "collapsed": false,
    "ein.hycell": false,
    "ein.tags": "worksheet-0",
    "slideshow": {
     "slide_type": "-"
    }
   },
   "outputs": [],
   "source": [
    "?np.multiply"
   ]
  },
  {
   "cell_type": "code",
   "execution_count": null,
   "metadata": {
    "autoscroll": false,
    "collapsed": false,
    "ein.hycell": false,
    "ein.tags": "worksheet-0",
    "slideshow": {
     "slide_type": "-"
    }
   },
   "outputs": [],
   "source": []
  },
  {
   "cell_type": "code",
   "execution_count": null,
   "metadata": {
    "autoscroll": false,
    "collapsed": false,
    "ein.hycell": false,
    "ein.tags": "worksheet-0",
    "slideshow": {
     "slide_type": "-"
    }
   },
   "outputs": [],
   "source": []
  },
  {
   "cell_type": "code",
   "execution_count": 680,
   "metadata": {
    "autoscroll": false,
    "collapsed": false,
    "ein.hycell": false,
    "ein.tags": "worksheet-0",
    "slideshow": {
     "slide_type": "-"
    }
   },
   "outputs": [
    {
     "data": {
      "text/plain": [
       "array([ 0.80480272,  0.70678578])"
      ]
     },
     "execution_count": 680,
     "metadata": {},
     "output_type": "execute_result"
    }
   ],
   "source": []
  },
  {
   "cell_type": "code",
   "execution_count": 902,
   "metadata": {
    "autoscroll": false,
    "collapsed": false,
    "ein.hycell": false,
    "ein.tags": "worksheet-0",
    "slideshow": {
     "slide_type": "-"
    }
   },
   "outputs": [
    {
     "name": "stdout",
     "output_type": "stream",
     "text": [
      "[ 0.10852146  0.89999944]\n",
      "[ 0.10879038  0.9001692 ]\n",
      "[ 0.10880293  0.90018146]\n",
      "[ 0.10880364  0.90018216]\n",
      "[ 0.10880369  0.9001822 ]\n"
     ]
    },
    {
     "data": {
      "text/plain": [
       "array([ 0.10880369,  0.9001822 ])"
      ]
     },
     "execution_count": 902,
     "metadata": {},
     "output_type": "execute_result"
    }
   ],
   "source": [
    "from functools import partial\n",
    "from scipy.optimize import minimize, Bounds\n",
    "\n",
    "from scipy.stats import binom\n",
    "\n",
    "\n",
    "def sim(p, n, N):\n",
    "    p = p + np.random.normal(0,.005,1)\n",
    "    return np.random.binomial(n, p, N)\n",
    "\n",
    "\n",
    "def e_step(k, n, prev_betas):\n",
    "\n",
    "    # likelihood = p(w | z, B)\n",
    "    likelihood = np.array([binom.pmf(k, n, b) for b in prev_betas]).T\n",
    "\n",
    "    # p(z | B) = \\sum_w p(z,w | B)\n",
    "    p_z = likelihood.sum(axis=0)\n",
    "    \n",
    "    # p(w,z | B) = p(w | z, B)p(z | B)\n",
    "    joint = (likelihood * p_z)\n",
    "\n",
    "    # p(w | B) = \\sum_z p(w, z | B)\n",
    "    marginal = likelihood.sum(axis=1)\n",
    "\n",
    "    # p(z | w, B) = p(w,z | B) / p(w | B)  \n",
    "    # (transposing just to broadcast division in numpy)\n",
    "    responsibility = (joint.T/marginal).T \n",
    "    return responsibility\n",
    "\n",
    "\n",
    "# \n",
    "def Q(k, n, prev_betas):\n",
    "    responsibility = e_step(prev_betas)\n",
    "    f = np.array([binom.logpmf(k, n, b) for b in betas]).T\n",
    "    return -np.sum(f * responsibility)\n",
    "\n",
    "def m_step(k, n, responsiblity):\n",
    "    nk = (responsibility.sum(axis=0))\n",
    "    # normalize by nk to get probability!\n",
    "    return np.dot(responsibility.T, k/n) / nk \n",
    "\n",
    "n = 10\n",
    "k = np.concatenate([sim(.1, n, 200), sim(.9, n, 200)])\n",
    "\n",
    "prev_betas = [0.01, .99]\n",
    "\n",
    "for j in range(5):\n",
    "    # bounds = Bounds([0.01,0.01], [.99,.99])\n",
    "    # f = partial(Q, k, n, prev_betas)\n",
    "    # new_betas = Q(k, n, prev_betas)\n",
    "    responsibility = e_step(k, n, prev_betas)\n",
    "    new_betas = m_step(k, n, responsibility)\n",
    "    # print(new_betas)\n",
    "    print(new_betas)\n",
    "    prev_betas = new_betas\n",
    "    # res = minimize(f, prev_betas, bounds = bounds)\n",
    "    # dif = np.linalg.norm(res.x - prev_betas)\n",
    "    # prev_betas = res.x   \n",
    "\n",
    "prev_betas"
   ]
  },
  {
   "cell_type": "code",
   "execution_count": null,
   "metadata": {
    "autoscroll": false,
    "collapsed": false,
    "ein.hycell": false,
    "ein.tags": "worksheet-0",
    "slideshow": {
     "slide_type": "-"
    }
   },
   "outputs": [],
   "source": [
    "from sklearn.mixture import GaussianMixture"
   ]
  },
  {
   "cell_type": "code",
   "execution_count": 113,
   "metadata": {
    "autoscroll": false,
    "collapsed": false,
    "ein.hycell": false,
    "ein.tags": "worksheet-0",
    "slideshow": {
     "slide_type": "-"
    }
   },
   "outputs": [
    {
     "data": {
      "text/plain": [
       "<matplotlib.axes._subplots.AxesSubplot at 0x7f9d4d7206a0>"
      ]
     },
     "execution_count": 113,
     "metadata": {},
     "output_type": "execute_result"
    },
    {
     "data": {
      "image/png": "[encoded data removed]",
      "text/plain": [
       "<Figure size 432x288 with 1 Axes>"
      ]
     },
     "metadata": {},
     "output_type": "display_data"
    }
   ],
   "source": [
    "sns.distplot(np.random.beta(5,2,1000))"
   ]
  }
 ],
 "metadata": {
  "kernelspec": {
   "display_name": "Python 3",
   "name": "python3"
  },
  "name": "exercises.ipynb"
 },
 "nbformat": 4,
 "nbformat_minor": 2
}
